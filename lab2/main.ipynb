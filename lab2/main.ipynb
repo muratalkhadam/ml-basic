{
 "cells": [
  {
   "cell_type": "code",
   "execution_count": 89,
   "metadata": {
    "collapsed": true
   },
   "outputs": [
    {
     "data": {
      "text/plain": "                      New York  New York  Average Temperature   January\n0    Units: Degrees Fahrenheit       NaN                  NaN       NaN\n1       Base Period: 1901-2000       NaN                  NaN       NaN\n2                 Missing: -99       NaN                  NaN       NaN\n3                         Date     Value              Anomaly       NaN\n4                       189501      29.6                 -2.0       NaN\n..                         ...       ...                  ...       ...\n128                     201901      32.6                  1.0       NaN\n129                     202001      39.2                  7.6       NaN\n130                     202101      34.8                  3.2       NaN\n131                     202201      30.4                 -1.2       NaN\n132                     202301      43.5                 11.9       NaN\n\n[133 rows x 4 columns]",
      "text/html": "<div>\n<style scoped>\n    .dataframe tbody tr th:only-of-type {\n        vertical-align: middle;\n    }\n\n    .dataframe tbody tr th {\n        vertical-align: top;\n    }\n\n    .dataframe thead th {\n        text-align: right;\n    }\n</style>\n<table border=\"1\" class=\"dataframe\">\n  <thead>\n    <tr style=\"text-align: right;\">\n      <th></th>\n      <th>New York</th>\n      <th>New York</th>\n      <th>Average Temperature</th>\n      <th>January</th>\n    </tr>\n  </thead>\n  <tbody>\n    <tr>\n      <th>0</th>\n      <td>Units: Degrees Fahrenheit</td>\n      <td>NaN</td>\n      <td>NaN</td>\n      <td>NaN</td>\n    </tr>\n    <tr>\n      <th>1</th>\n      <td>Base Period: 1901-2000</td>\n      <td>NaN</td>\n      <td>NaN</td>\n      <td>NaN</td>\n    </tr>\n    <tr>\n      <th>2</th>\n      <td>Missing: -99</td>\n      <td>NaN</td>\n      <td>NaN</td>\n      <td>NaN</td>\n    </tr>\n    <tr>\n      <th>3</th>\n      <td>Date</td>\n      <td>Value</td>\n      <td>Anomaly</td>\n      <td>NaN</td>\n    </tr>\n    <tr>\n      <th>4</th>\n      <td>189501</td>\n      <td>29.6</td>\n      <td>-2.0</td>\n      <td>NaN</td>\n    </tr>\n    <tr>\n      <th>...</th>\n      <td>...</td>\n      <td>...</td>\n      <td>...</td>\n      <td>...</td>\n    </tr>\n    <tr>\n      <th>128</th>\n      <td>201901</td>\n      <td>32.6</td>\n      <td>1.0</td>\n      <td>NaN</td>\n    </tr>\n    <tr>\n      <th>129</th>\n      <td>202001</td>\n      <td>39.2</td>\n      <td>7.6</td>\n      <td>NaN</td>\n    </tr>\n    <tr>\n      <th>130</th>\n      <td>202101</td>\n      <td>34.8</td>\n      <td>3.2</td>\n      <td>NaN</td>\n    </tr>\n    <tr>\n      <th>131</th>\n      <td>202201</td>\n      <td>30.4</td>\n      <td>-1.2</td>\n      <td>NaN</td>\n    </tr>\n    <tr>\n      <th>132</th>\n      <td>202301</td>\n      <td>43.5</td>\n      <td>11.9</td>\n      <td>NaN</td>\n    </tr>\n  </tbody>\n</table>\n<p>133 rows × 4 columns</p>\n</div>"
     },
     "execution_count": 89,
     "metadata": {},
     "output_type": "execute_result"
    }
   ],
   "source": [
    "import pandas as pd\n",
    "pd.set_option('display.precision', 2)\n",
    "\n",
    "df = pd.read_csv('https://www.ncei.noaa.gov/access/monitoring/climate-at-a-glance/city/time-series/USH00305801/tavg/1/1/1895-2023.csv?base_prd=true&begbaseyear=1901&endbaseyear=2000')\n",
    "df"
   ]
  },
  {
   "cell_type": "markdown",
   "source": [
    "# 1)"
   ],
   "metadata": {
    "collapsed": false
   }
  },
  {
   "cell_type": "code",
   "execution_count": 90,
   "outputs": [
    {
     "data": {
      "text/plain": "    New York  New York  Average Temperature\n0     189501      29.6                 -2.0\n1     189601      28.8                 -2.8\n2     189701      29.6                 -2.0\n3     189801      34.2                  2.6\n4     189901      30.1                 -1.5\n..       ...       ...                  ...\n124   201901      32.6                  1.0\n125   202001      39.2                  7.6\n126   202101      34.8                  3.2\n127   202201      30.4                 -1.2\n128   202301      43.5                 11.9\n\n[129 rows x 3 columns]",
      "text/html": "<div>\n<style scoped>\n    .dataframe tbody tr th:only-of-type {\n        vertical-align: middle;\n    }\n\n    .dataframe tbody tr th {\n        vertical-align: top;\n    }\n\n    .dataframe thead th {\n        text-align: right;\n    }\n</style>\n<table border=\"1\" class=\"dataframe\">\n  <thead>\n    <tr style=\"text-align: right;\">\n      <th></th>\n      <th>New York</th>\n      <th>New York</th>\n      <th>Average Temperature</th>\n    </tr>\n  </thead>\n  <tbody>\n    <tr>\n      <th>0</th>\n      <td>189501</td>\n      <td>29.6</td>\n      <td>-2.0</td>\n    </tr>\n    <tr>\n      <th>1</th>\n      <td>189601</td>\n      <td>28.8</td>\n      <td>-2.8</td>\n    </tr>\n    <tr>\n      <th>2</th>\n      <td>189701</td>\n      <td>29.6</td>\n      <td>-2.0</td>\n    </tr>\n    <tr>\n      <th>3</th>\n      <td>189801</td>\n      <td>34.2</td>\n      <td>2.6</td>\n    </tr>\n    <tr>\n      <th>4</th>\n      <td>189901</td>\n      <td>30.1</td>\n      <td>-1.5</td>\n    </tr>\n    <tr>\n      <th>...</th>\n      <td>...</td>\n      <td>...</td>\n      <td>...</td>\n    </tr>\n    <tr>\n      <th>124</th>\n      <td>201901</td>\n      <td>32.6</td>\n      <td>1.0</td>\n    </tr>\n    <tr>\n      <th>125</th>\n      <td>202001</td>\n      <td>39.2</td>\n      <td>7.6</td>\n    </tr>\n    <tr>\n      <th>126</th>\n      <td>202101</td>\n      <td>34.8</td>\n      <td>3.2</td>\n    </tr>\n    <tr>\n      <th>127</th>\n      <td>202201</td>\n      <td>30.4</td>\n      <td>-1.2</td>\n    </tr>\n    <tr>\n      <th>128</th>\n      <td>202301</td>\n      <td>43.5</td>\n      <td>11.9</td>\n    </tr>\n  </tbody>\n</table>\n<p>129 rows × 3 columns</p>\n</div>"
     },
     "execution_count": 90,
     "metadata": {},
     "output_type": "execute_result"
    }
   ],
   "source": [
    "df = df.drop(columns=' January', axis=1)\n",
    "df = df.drop(df.index[:4])\n",
    "df.index = range(len(df))\n",
    "df"
   ],
   "metadata": {
    "collapsed": false
   }
  },
  {
   "cell_type": "code",
   "execution_count": 91,
   "outputs": [
    {
     "data": {
      "text/plain": "New York                False\n New York               False\n Average Temperature    False\ndtype: bool"
     },
     "execution_count": 91,
     "metadata": {},
     "output_type": "execute_result"
    }
   ],
   "source": [
    "df.isnull().any()"
   ],
   "metadata": {
    "collapsed": false
   }
  },
  {
   "cell_type": "code",
   "execution_count": 92,
   "outputs": [
    {
     "data": {
      "text/plain": "       Year Temperature Anomaly\n0    189501        29.6    -2.0\n1    189601        28.8    -2.8\n2    189701        29.6    -2.0\n3    189801        34.2     2.6\n4    189901        30.1    -1.5\n..      ...         ...     ...\n124  201901        32.6     1.0\n125  202001        39.2     7.6\n126  202101        34.8     3.2\n127  202201        30.4    -1.2\n128  202301        43.5    11.9\n\n[129 rows x 3 columns]",
      "text/html": "<div>\n<style scoped>\n    .dataframe tbody tr th:only-of-type {\n        vertical-align: middle;\n    }\n\n    .dataframe tbody tr th {\n        vertical-align: top;\n    }\n\n    .dataframe thead th {\n        text-align: right;\n    }\n</style>\n<table border=\"1\" class=\"dataframe\">\n  <thead>\n    <tr style=\"text-align: right;\">\n      <th></th>\n      <th>Year</th>\n      <th>Temperature</th>\n      <th>Anomaly</th>\n    </tr>\n  </thead>\n  <tbody>\n    <tr>\n      <th>0</th>\n      <td>189501</td>\n      <td>29.6</td>\n      <td>-2.0</td>\n    </tr>\n    <tr>\n      <th>1</th>\n      <td>189601</td>\n      <td>28.8</td>\n      <td>-2.8</td>\n    </tr>\n    <tr>\n      <th>2</th>\n      <td>189701</td>\n      <td>29.6</td>\n      <td>-2.0</td>\n    </tr>\n    <tr>\n      <th>3</th>\n      <td>189801</td>\n      <td>34.2</td>\n      <td>2.6</td>\n    </tr>\n    <tr>\n      <th>4</th>\n      <td>189901</td>\n      <td>30.1</td>\n      <td>-1.5</td>\n    </tr>\n    <tr>\n      <th>...</th>\n      <td>...</td>\n      <td>...</td>\n      <td>...</td>\n    </tr>\n    <tr>\n      <th>124</th>\n      <td>201901</td>\n      <td>32.6</td>\n      <td>1.0</td>\n    </tr>\n    <tr>\n      <th>125</th>\n      <td>202001</td>\n      <td>39.2</td>\n      <td>7.6</td>\n    </tr>\n    <tr>\n      <th>126</th>\n      <td>202101</td>\n      <td>34.8</td>\n      <td>3.2</td>\n    </tr>\n    <tr>\n      <th>127</th>\n      <td>202201</td>\n      <td>30.4</td>\n      <td>-1.2</td>\n    </tr>\n    <tr>\n      <th>128</th>\n      <td>202301</td>\n      <td>43.5</td>\n      <td>11.9</td>\n    </tr>\n  </tbody>\n</table>\n<p>129 rows × 3 columns</p>\n</div>"
     },
     "execution_count": 92,
     "metadata": {},
     "output_type": "execute_result"
    }
   ],
   "source": [
    "df.columns = ['Year', 'Temperature', 'Anomaly']\n",
    "df"
   ],
   "metadata": {
    "collapsed": false
   }
  },
  {
   "cell_type": "code",
   "execution_count": 93,
   "outputs": [
    {
     "data": {
      "text/plain": "Year           object\nTemperature    object\nAnomaly        object\ndtype: object"
     },
     "execution_count": 93,
     "metadata": {},
     "output_type": "execute_result"
    }
   ],
   "source": [
    "df.dtypes"
   ],
   "metadata": {
    "collapsed": false
   }
  },
  {
   "cell_type": "code",
   "execution_count": 94,
   "outputs": [
    {
     "data": {
      "text/plain": "     Year  Temperature  Anomaly\n0    1895         29.6     -2.0\n1    1896         28.8     -2.8\n2    1897         29.6     -2.0\n3    1898         34.2      2.6\n4    1899         30.1     -1.5\n..    ...          ...      ...\n124  2019         32.6      1.0\n125  2020         39.2      7.6\n126  2021         34.8      3.2\n127  2022         30.4     -1.2\n128  2023         43.5     11.9\n\n[129 rows x 3 columns]",
      "text/html": "<div>\n<style scoped>\n    .dataframe tbody tr th:only-of-type {\n        vertical-align: middle;\n    }\n\n    .dataframe tbody tr th {\n        vertical-align: top;\n    }\n\n    .dataframe thead th {\n        text-align: right;\n    }\n</style>\n<table border=\"1\" class=\"dataframe\">\n  <thead>\n    <tr style=\"text-align: right;\">\n      <th></th>\n      <th>Year</th>\n      <th>Temperature</th>\n      <th>Anomaly</th>\n    </tr>\n  </thead>\n  <tbody>\n    <tr>\n      <th>0</th>\n      <td>1895</td>\n      <td>29.6</td>\n      <td>-2.0</td>\n    </tr>\n    <tr>\n      <th>1</th>\n      <td>1896</td>\n      <td>28.8</td>\n      <td>-2.8</td>\n    </tr>\n    <tr>\n      <th>2</th>\n      <td>1897</td>\n      <td>29.6</td>\n      <td>-2.0</td>\n    </tr>\n    <tr>\n      <th>3</th>\n      <td>1898</td>\n      <td>34.2</td>\n      <td>2.6</td>\n    </tr>\n    <tr>\n      <th>4</th>\n      <td>1899</td>\n      <td>30.1</td>\n      <td>-1.5</td>\n    </tr>\n    <tr>\n      <th>...</th>\n      <td>...</td>\n      <td>...</td>\n      <td>...</td>\n    </tr>\n    <tr>\n      <th>124</th>\n      <td>2019</td>\n      <td>32.6</td>\n      <td>1.0</td>\n    </tr>\n    <tr>\n      <th>125</th>\n      <td>2020</td>\n      <td>39.2</td>\n      <td>7.6</td>\n    </tr>\n    <tr>\n      <th>126</th>\n      <td>2021</td>\n      <td>34.8</td>\n      <td>3.2</td>\n    </tr>\n    <tr>\n      <th>127</th>\n      <td>2022</td>\n      <td>30.4</td>\n      <td>-1.2</td>\n    </tr>\n    <tr>\n      <th>128</th>\n      <td>2023</td>\n      <td>43.5</td>\n      <td>11.9</td>\n    </tr>\n  </tbody>\n</table>\n<p>129 rows × 3 columns</p>\n</div>"
     },
     "execution_count": 94,
     "metadata": {},
     "output_type": "execute_result"
    }
   ],
   "source": [
    "df['Year'] = df['Year'].str[:4].astype(int)\n",
    "df['Temperature'] = df['Temperature'].astype(float)\n",
    "df['Anomaly'] = df['Anomaly'].astype(float)\n",
    "df"
   ],
   "metadata": {
    "collapsed": false
   }
  },
  {
   "cell_type": "code",
   "execution_count": 95,
   "outputs": [
    {
     "data": {
      "text/plain": "Year             int32\nTemperature    float64\nAnomaly        float64\ndtype: object"
     },
     "execution_count": 95,
     "metadata": {},
     "output_type": "execute_result"
    }
   ],
   "source": [
    "df.dtypes"
   ],
   "metadata": {
    "collapsed": false
   }
  },
  {
   "cell_type": "code",
   "execution_count": 96,
   "outputs": [
    {
     "data": {
      "text/plain": "count    129.00\nmean      31.92\nstd        4.54\nmin       21.20\n25%       29.00\n50%       31.70\n75%       34.80\nmax       43.50\nName: Temperature, dtype: float64"
     },
     "execution_count": 96,
     "metadata": {},
     "output_type": "execute_result"
    }
   ],
   "source": [
    "df['Temperature'].describe()"
   ],
   "metadata": {
    "collapsed": false
   }
  },
  {
   "cell_type": "markdown",
   "source": [
    "# 3)"
   ],
   "metadata": {
    "collapsed": false
   }
  },
  {
   "cell_type": "code",
   "execution_count": 97,
   "outputs": [
    {
     "name": "stdout",
     "output_type": "stream",
     "text": [
      "Slope of lin reg: 0.02154013864042934\n",
      "Intercept of lin reg: -10.27310058884914\n"
     ]
    }
   ],
   "source": [
    "from scipy import stats\n",
    "\n",
    "linear_regression = stats.linregress(x=df['Year'], y=df['Temperature'])\n",
    "\n",
    "print(f'Slope of lin reg: {linear_regression.slope}\\n'\n",
    "      f'Intercept of lin reg: {linear_regression.intercept}')"
   ],
   "metadata": {
    "collapsed": false
   }
  },
  {
   "cell_type": "markdown",
   "source": [
    "Predict temp"
   ],
   "metadata": {
    "collapsed": false
   }
  },
  {
   "cell_type": "code",
   "execution_count": 98,
   "outputs": [
    {
     "name": "stdout",
     "output_type": "stream",
     "text": [
      "Predicted temperature for 2019 year is 33.21643932617769\n",
      "Predicted temperature for 2020 year is 33.237979464818125\n",
      "Predicted temperature for 2021 year is 33.25951960345855\n",
      "Predicted temperature for 2022 year is 33.28105974209898\n"
     ]
    }
   ],
   "source": [
    "def predict_temp(year):\n",
    "      return linear_regression.slope * year + linear_regression.intercept\n",
    "\n",
    "\n",
    "for year in range(2019, 2023):\n",
    "      temp = predict_temp(year)\n",
    "      print(f\"Predicted temperature for {year} year is {temp}\")"
   ],
   "metadata": {
    "collapsed": false
   }
  },
  {
   "cell_type": "markdown",
   "source": [
    "# 4) Predict values to 1895"
   ],
   "metadata": {
    "collapsed": false
   }
  },
  {
   "cell_type": "code",
   "execution_count": 99,
   "outputs": [
    {
     "name": "stdout",
     "output_type": "stream",
     "text": [
      "Predicted temperature for 1885 year is 30.33006074836016\n",
      "Predicted temperature for 1886 year is 30.351600887000593\n",
      "Predicted temperature for 1887 year is 30.37314102564102\n",
      "Predicted temperature for 1888 year is 30.39468116428145\n",
      "Predicted temperature for 1889 year is 30.416221302921883\n",
      "Predicted temperature for 1890 year is 30.43776144156231\n",
      "Predicted temperature for 1891 year is 30.45930158020274\n",
      "Predicted temperature for 1892 year is 30.480841718843166\n",
      "Predicted temperature for 1893 year is 30.5023818574836\n",
      "Predicted temperature for 1894 year is 30.523921996124024\n"
     ]
    }
   ],
   "source": [
    "for year in range(1885, 1895):\n",
    "      temp = predict_temp(year)\n",
    "      print(f\"Predicted temperature for {year} year is {temp}\")"
   ],
   "metadata": {
    "collapsed": false
   }
  },
  {
   "cell_type": "markdown",
   "source": [
    "# 2)+5)  Reg plot and line of linear regg"
   ],
   "metadata": {
    "collapsed": false
   }
  },
  {
   "cell_type": "code",
   "execution_count": 100,
   "outputs": [
    {
     "name": "stdout",
     "output_type": "stream",
     "text": [
      "Equation  for linear regression:\n",
      " temp = 0.02154013864042934 * year + -10.27310058884914\n"
     ]
    }
   ],
   "source": [
    "print(f'Equation  for linear regression:\\n temp = {linear_regression.slope} * year + {linear_regression.intercept}')"
   ],
   "metadata": {
    "collapsed": false
   }
  },
  {
   "cell_type": "code",
   "execution_count": 101,
   "outputs": [
    {
     "data": {
      "text/plain": "<Axes: xlabel='Year', ylabel='Temperature'>"
     },
     "execution_count": 101,
     "metadata": {},
     "output_type": "execute_result"
    },
    {
     "data": {
      "text/plain": "<Figure size 640x480 with 1 Axes>",
      "image/png": "[encoded data removed]"
     },
     "metadata": {},
     "output_type": "display_data"
    }
   ],
   "source": [
    "import seaborn as sns\n",
    "\n",
    "sns.regplot(x=df['Year'], y=df['Temperature'], color='purple')"
   ],
   "metadata": {
    "collapsed": false
   }
  },
  {
   "cell_type": "markdown",
   "source": [
    "# 6) Scale from 0 to 100"
   ],
   "metadata": {
    "collapsed": false
   }
  },
  {
   "cell_type": "code",
   "execution_count": 102,
   "outputs": [
    {
     "data": {
      "text/plain": "(0.0, 100.0)"
     },
     "execution_count": 102,
     "metadata": {},
     "output_type": "execute_result"
    },
    {
     "data": {
      "text/plain": "<Figure size 640x480 with 1 Axes>",
      "image/png": "[encoded data removed]"
     },
     "metadata": {},
     "output_type": "display_data"
    }
   ],
   "source": [
    "sns.regplot(x=df['Year'], y=df['Temperature'], color='red').set_ylim(0, 100)"
   ],
   "metadata": {
    "collapsed": false
   }
  },
  {
   "cell_type": "markdown",
   "source": [
    "# 7) Conclusion for 2019-2022"
   ],
   "metadata": {
    "collapsed": false
   }
  },
  {
   "cell_type": "code",
   "execution_count": 103,
   "outputs": [
    {
     "name": "stdout",
     "output_type": "stream",
     "text": [
      "Predicted temperature for 2019 year is 33.21643932617769.\n",
      "The actual temp is 32.6\n",
      "Difference by absolute: 0.62\n",
      "\n",
      "Predicted temperature for 2020 year is 33.237979464818125.\n",
      "The actual temp is 39.2\n",
      "Difference by absolute: 5.96\n",
      "\n",
      "Predicted temperature for 2021 year is 33.25951960345855.\n",
      "The actual temp is 34.8\n",
      "Difference by absolute: 1.54\n",
      "\n",
      "Predicted temperature for 2022 year is 33.28105974209898.\n",
      "The actual temp is 30.4\n",
      "Difference by absolute: 2.88\n",
      "\n"
     ]
    }
   ],
   "source": [
    "for year in range(2019, 2023):\n",
    "      temp = predict_temp(year)\n",
    "      actual_temp = df.loc[df['Year'] == year]['Temperature'].values[0]\n",
    "      diff = abs(round(temp - actual_temp, 2))\n",
    "\n",
    "      print(f\"Predicted temperature for {year} year is {temp}.\"\n",
    "            f\"\\nThe actual temp is {actual_temp}\"\n",
    "            f\"\\nDifference by absolute: {diff}\\n\")"
   ],
   "metadata": {
    "collapsed": false
   }
  }
 ],
 "metadata": {
  "kernelspec": {
   "display_name": "Python 3",
   "language": "python",
   "name": "python3"
  },
  "language_info": {
   "codemirror_mode": {
    "name": "ipython",
    "version": 2
   },
   "file_extension": ".py",
   "mimetype": "text/x-python",
   "name": "python",
   "nbconvert_exporter": "python",
   "pygments_lexer": "ipython2",
   "version": "2.7.6"
  }
 },
 "nbformat": 4,
 "nbformat_minor": 0
}
