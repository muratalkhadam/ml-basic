{
 "cells": [
  {
   "cell_type": "code",
   "execution_count": 67,
   "metadata": {
    "collapsed": true
   },
   "outputs": [],
   "source": [
    "import pandas as pd"
   ]
  },
  {
   "cell_type": "code",
   "execution_count": 68,
   "outputs": [],
   "source": [
    "df_teams = pd.read_csv('assets/highest_earning_teams.csv')\n",
    "df_players = pd.read_csv('assets/highest_earning_players.csv')"
   ],
   "metadata": {
    "collapsed": false
   }
  },
  {
   "cell_type": "code",
   "execution_count": 69,
   "outputs": [
    {
     "data": {
      "text/plain": "   TeamId             TeamName  TotalUSDPrize  TotalTournaments       Game  \\\n0     760  San Francisco Shock       3.10e+06                 7  Overwatch   \n1     776      London Spitfire       1.59e+06                13  Overwatch   \n2     768   New York Excelsior       1.57e+06                18  Overwatch   \n3     773  Philadelphia Fusion       1.19e+06                15  Overwatch   \n4     766        Seoul Dynasty       1.13e+06                 6  Overwatch   \n\n                  Genre  \n0  First-Person Shooter  \n1  First-Person Shooter  \n2  First-Person Shooter  \n3  First-Person Shooter  \n4  First-Person Shooter  ",
      "text/html": "<div>\n<style scoped>\n    .dataframe tbody tr th:only-of-type {\n        vertical-align: middle;\n    }\n\n    .dataframe tbody tr th {\n        vertical-align: top;\n    }\n\n    .dataframe thead th {\n        text-align: right;\n    }\n</style>\n<table border=\"1\" class=\"dataframe\">\n  <thead>\n    <tr style=\"text-align: right;\">\n      <th></th>\n      <th>TeamId</th>\n      <th>TeamName</th>\n      <th>TotalUSDPrize</th>\n      <th>TotalTournaments</th>\n      <th>Game</th>\n      <th>Genre</th>\n    </tr>\n  </thead>\n  <tbody>\n    <tr>\n      <th>0</th>\n      <td>760</td>\n      <td>San Francisco Shock</td>\n      <td>3.10e+06</td>\n      <td>7</td>\n      <td>Overwatch</td>\n      <td>First-Person Shooter</td>\n    </tr>\n    <tr>\n      <th>1</th>\n      <td>776</td>\n      <td>London Spitfire</td>\n      <td>1.59e+06</td>\n      <td>13</td>\n      <td>Overwatch</td>\n      <td>First-Person Shooter</td>\n    </tr>\n    <tr>\n      <th>2</th>\n      <td>768</td>\n      <td>New York Excelsior</td>\n      <td>1.57e+06</td>\n      <td>18</td>\n      <td>Overwatch</td>\n      <td>First-Person Shooter</td>\n    </tr>\n    <tr>\n      <th>3</th>\n      <td>773</td>\n      <td>Philadelphia Fusion</td>\n      <td>1.19e+06</td>\n      <td>15</td>\n      <td>Overwatch</td>\n      <td>First-Person Shooter</td>\n    </tr>\n    <tr>\n      <th>4</th>\n      <td>766</td>\n      <td>Seoul Dynasty</td>\n      <td>1.13e+06</td>\n      <td>6</td>\n      <td>Overwatch</td>\n      <td>First-Person Shooter</td>\n    </tr>\n  </tbody>\n</table>\n</div>"
     },
     "execution_count": 69,
     "metadata": {},
     "output_type": "execute_result"
    }
   ],
   "source": [
    "df_teams.head()"
   ],
   "metadata": {
    "collapsed": false
   }
  },
  {
   "cell_type": "code",
   "execution_count": 70,
   "outputs": [
    {
     "data": {
      "text/plain": "   PlayerId NameFirst   NameLast CurrentHandle CountryCode  TotalUSDPrize  \\\n0      3883     Peter  Rasmussen       dupreeh          dk       1.82e+06   \n1      3679   Andreas   Højsleth         Xyp9x          dk       1.80e+06   \n2      3885   Nicolai     Reedtz        dev1ce          dk       1.79e+06   \n3      3672     Lukas  Rossander        gla1ve          dk       1.65e+06   \n4     17800      Emil       Reif        Magisk          dk       1.42e+06   \n\n                               Game                 Genre  \n0  Counter-Strike: Global Offensive  First-Person Shooter  \n1  Counter-Strike: Global Offensive  First-Person Shooter  \n2  Counter-Strike: Global Offensive  First-Person Shooter  \n3  Counter-Strike: Global Offensive  First-Person Shooter  \n4  Counter-Strike: Global Offensive  First-Person Shooter  ",
      "text/html": "<div>\n<style scoped>\n    .dataframe tbody tr th:only-of-type {\n        vertical-align: middle;\n    }\n\n    .dataframe tbody tr th {\n        vertical-align: top;\n    }\n\n    .dataframe thead th {\n        text-align: right;\n    }\n</style>\n<table border=\"1\" class=\"dataframe\">\n  <thead>\n    <tr style=\"text-align: right;\">\n      <th></th>\n      <th>PlayerId</th>\n      <th>NameFirst</th>\n      <th>NameLast</th>\n      <th>CurrentHandle</th>\n      <th>CountryCode</th>\n      <th>TotalUSDPrize</th>\n      <th>Game</th>\n      <th>Genre</th>\n    </tr>\n  </thead>\n  <tbody>\n    <tr>\n      <th>0</th>\n      <td>3883</td>\n      <td>Peter</td>\n      <td>Rasmussen</td>\n      <td>dupreeh</td>\n      <td>dk</td>\n      <td>1.82e+06</td>\n      <td>Counter-Strike: Global Offensive</td>\n      <td>First-Person Shooter</td>\n    </tr>\n    <tr>\n      <th>1</th>\n      <td>3679</td>\n      <td>Andreas</td>\n      <td>Højsleth</td>\n      <td>Xyp9x</td>\n      <td>dk</td>\n      <td>1.80e+06</td>\n      <td>Counter-Strike: Global Offensive</td>\n      <td>First-Person Shooter</td>\n    </tr>\n    <tr>\n      <th>2</th>\n      <td>3885</td>\n      <td>Nicolai</td>\n      <td>Reedtz</td>\n      <td>dev1ce</td>\n      <td>dk</td>\n      <td>1.79e+06</td>\n      <td>Counter-Strike: Global Offensive</td>\n      <td>First-Person Shooter</td>\n    </tr>\n    <tr>\n      <th>3</th>\n      <td>3672</td>\n      <td>Lukas</td>\n      <td>Rossander</td>\n      <td>gla1ve</td>\n      <td>dk</td>\n      <td>1.65e+06</td>\n      <td>Counter-Strike: Global Offensive</td>\n      <td>First-Person Shooter</td>\n    </tr>\n    <tr>\n      <th>4</th>\n      <td>17800</td>\n      <td>Emil</td>\n      <td>Reif</td>\n      <td>Magisk</td>\n      <td>dk</td>\n      <td>1.42e+06</td>\n      <td>Counter-Strike: Global Offensive</td>\n      <td>First-Person Shooter</td>\n    </tr>\n  </tbody>\n</table>\n</div>"
     },
     "execution_count": 70,
     "metadata": {},
     "output_type": "execute_result"
    }
   ],
   "source": [
    "df_players.head()"
   ],
   "metadata": {
    "collapsed": false
   }
  },
  {
   "cell_type": "code",
   "execution_count": 71,
   "outputs": [
    {
     "data": {
      "text/plain": "                  TeamName  TotalUSDPrize  TotalTournaments            Game  \\\n0      San Francisco Shock       3.10e+06                 7       Overwatch   \n1          London Spitfire       1.59e+06                13       Overwatch   \n2       New York Excelsior       1.57e+06                18       Overwatch   \n3      Philadelphia Fusion       1.19e+06                15       Overwatch   \n4            Seoul Dynasty       1.13e+06                 6       Overwatch   \n..                     ...            ...               ...             ...   \n923         Rex Regum Qeon       6.29e+03                 2  Arena of Valor   \n924               Alliance       4.00e+03                 1  Arena of Valor   \n925        Marines Esports       3.43e+03                 1  Arena of Valor   \n926  British National Team       2.50e+03                 1  Arena of Valor   \n927  Swedish National Team       2.50e+03                 1  Arena of Valor   \n\n                               Genre  \n0               First-Person Shooter  \n1               First-Person Shooter  \n2               First-Person Shooter  \n3               First-Person Shooter  \n4               First-Person Shooter  \n..                               ...  \n923  Multiplayer Online Battle Arena  \n924  Multiplayer Online Battle Arena  \n925  Multiplayer Online Battle Arena  \n926  Multiplayer Online Battle Arena  \n927  Multiplayer Online Battle Arena  \n\n[928 rows x 5 columns]",
      "text/html": "<div>\n<style scoped>\n    .dataframe tbody tr th:only-of-type {\n        vertical-align: middle;\n    }\n\n    .dataframe tbody tr th {\n        vertical-align: top;\n    }\n\n    .dataframe thead th {\n        text-align: right;\n    }\n</style>\n<table border=\"1\" class=\"dataframe\">\n  <thead>\n    <tr style=\"text-align: right;\">\n      <th></th>\n      <th>TeamName</th>\n      <th>TotalUSDPrize</th>\n      <th>TotalTournaments</th>\n      <th>Game</th>\n      <th>Genre</th>\n    </tr>\n  </thead>\n  <tbody>\n    <tr>\n      <th>0</th>\n      <td>San Francisco Shock</td>\n      <td>3.10e+06</td>\n      <td>7</td>\n      <td>Overwatch</td>\n      <td>First-Person Shooter</td>\n    </tr>\n    <tr>\n      <th>1</th>\n      <td>London Spitfire</td>\n      <td>1.59e+06</td>\n      <td>13</td>\n      <td>Overwatch</td>\n      <td>First-Person Shooter</td>\n    </tr>\n    <tr>\n      <th>2</th>\n      <td>New York Excelsior</td>\n      <td>1.57e+06</td>\n      <td>18</td>\n      <td>Overwatch</td>\n      <td>First-Person Shooter</td>\n    </tr>\n    <tr>\n      <th>3</th>\n      <td>Philadelphia Fusion</td>\n      <td>1.19e+06</td>\n      <td>15</td>\n      <td>Overwatch</td>\n      <td>First-Person Shooter</td>\n    </tr>\n    <tr>\n      <th>4</th>\n      <td>Seoul Dynasty</td>\n      <td>1.13e+06</td>\n      <td>6</td>\n      <td>Overwatch</td>\n      <td>First-Person Shooter</td>\n    </tr>\n    <tr>\n      <th>...</th>\n      <td>...</td>\n      <td>...</td>\n      <td>...</td>\n      <td>...</td>\n      <td>...</td>\n    </tr>\n    <tr>\n      <th>923</th>\n      <td>Rex Regum Qeon</td>\n      <td>6.29e+03</td>\n      <td>2</td>\n      <td>Arena of Valor</td>\n      <td>Multiplayer Online Battle Arena</td>\n    </tr>\n    <tr>\n      <th>924</th>\n      <td>Alliance</td>\n      <td>4.00e+03</td>\n      <td>1</td>\n      <td>Arena of Valor</td>\n      <td>Multiplayer Online Battle Arena</td>\n    </tr>\n    <tr>\n      <th>925</th>\n      <td>Marines Esports</td>\n      <td>3.43e+03</td>\n      <td>1</td>\n      <td>Arena of Valor</td>\n      <td>Multiplayer Online Battle Arena</td>\n    </tr>\n    <tr>\n      <th>926</th>\n      <td>British National Team</td>\n      <td>2.50e+03</td>\n      <td>1</td>\n      <td>Arena of Valor</td>\n      <td>Multiplayer Online Battle Arena</td>\n    </tr>\n    <tr>\n      <th>927</th>\n      <td>Swedish National Team</td>\n      <td>2.50e+03</td>\n      <td>1</td>\n      <td>Arena of Valor</td>\n      <td>Multiplayer Online Battle Arena</td>\n    </tr>\n  </tbody>\n</table>\n<p>928 rows × 5 columns</p>\n</div>"
     },
     "execution_count": 71,
     "metadata": {},
     "output_type": "execute_result"
    }
   ],
   "source": [
    "df_teams = df_teams.drop('TeamId', axis=1)\n",
    "df_teams"
   ],
   "metadata": {
    "collapsed": false
   }
  },
  {
   "cell_type": "code",
   "execution_count": 72,
   "outputs": [
    {
     "data": {
      "text/plain": "    NameFirst   NameLast CurrentHandle CountryCode  TotalUSDPrize  \\\n0       Peter  Rasmussen       dupreeh          dk       1.82e+06   \n1     Andreas   Højsleth         Xyp9x          dk       1.80e+06   \n2     Nicolai     Reedtz        dev1ce          dk       1.79e+06   \n3       Lukas  Rossander        gla1ve          dk       1.65e+06   \n4        Emil       Reif        Magisk          dk       1.42e+06   \n..        ...        ...           ...         ...            ...   \n995     Janne   Mikkonen         Savjz          fi       5.07e+04   \n996      Drew  Biessener   Tidesoftime          us       5.04e+04   \n997    Simone    Liguori          Leta          it       4.93e+04   \n998      Mike    Eichner           Ike          us       4.86e+04   \n999   Jeffrey      Brusi          SjoW          se       4.80e+04   \n\n                                 Game                  Genre  \n0    Counter-Strike: Global Offensive   First-Person Shooter  \n1    Counter-Strike: Global Offensive   First-Person Shooter  \n2    Counter-Strike: Global Offensive   First-Person Shooter  \n3    Counter-Strike: Global Offensive   First-Person Shooter  \n4    Counter-Strike: Global Offensive   First-Person Shooter  \n..                                ...                    ...  \n995                       Hearthstone  Collectible Card Game  \n996                       Hearthstone  Collectible Card Game  \n997                       Hearthstone  Collectible Card Game  \n998                       Hearthstone  Collectible Card Game  \n999                       Hearthstone  Collectible Card Game  \n\n[1000 rows x 7 columns]",
      "text/html": "<div>\n<style scoped>\n    .dataframe tbody tr th:only-of-type {\n        vertical-align: middle;\n    }\n\n    .dataframe tbody tr th {\n        vertical-align: top;\n    }\n\n    .dataframe thead th {\n        text-align: right;\n    }\n</style>\n<table border=\"1\" class=\"dataframe\">\n  <thead>\n    <tr style=\"text-align: right;\">\n      <th></th>\n      <th>NameFirst</th>\n      <th>NameLast</th>\n      <th>CurrentHandle</th>\n      <th>CountryCode</th>\n      <th>TotalUSDPrize</th>\n      <th>Game</th>\n      <th>Genre</th>\n    </tr>\n  </thead>\n  <tbody>\n    <tr>\n      <th>0</th>\n      <td>Peter</td>\n      <td>Rasmussen</td>\n      <td>dupreeh</td>\n      <td>dk</td>\n      <td>1.82e+06</td>\n      <td>Counter-Strike: Global Offensive</td>\n      <td>First-Person Shooter</td>\n    </tr>\n    <tr>\n      <th>1</th>\n      <td>Andreas</td>\n      <td>Højsleth</td>\n      <td>Xyp9x</td>\n      <td>dk</td>\n      <td>1.80e+06</td>\n      <td>Counter-Strike: Global Offensive</td>\n      <td>First-Person Shooter</td>\n    </tr>\n    <tr>\n      <th>2</th>\n      <td>Nicolai</td>\n      <td>Reedtz</td>\n      <td>dev1ce</td>\n      <td>dk</td>\n      <td>1.79e+06</td>\n      <td>Counter-Strike: Global Offensive</td>\n      <td>First-Person Shooter</td>\n    </tr>\n    <tr>\n      <th>3</th>\n      <td>Lukas</td>\n      <td>Rossander</td>\n      <td>gla1ve</td>\n      <td>dk</td>\n      <td>1.65e+06</td>\n      <td>Counter-Strike: Global Offensive</td>\n      <td>First-Person Shooter</td>\n    </tr>\n    <tr>\n      <th>4</th>\n      <td>Emil</td>\n      <td>Reif</td>\n      <td>Magisk</td>\n      <td>dk</td>\n      <td>1.42e+06</td>\n      <td>Counter-Strike: Global Offensive</td>\n      <td>First-Person Shooter</td>\n    </tr>\n    <tr>\n      <th>...</th>\n      <td>...</td>\n      <td>...</td>\n      <td>...</td>\n      <td>...</td>\n      <td>...</td>\n      <td>...</td>\n      <td>...</td>\n    </tr>\n    <tr>\n      <th>995</th>\n      <td>Janne</td>\n      <td>Mikkonen</td>\n      <td>Savjz</td>\n      <td>fi</td>\n      <td>5.07e+04</td>\n      <td>Hearthstone</td>\n      <td>Collectible Card Game</td>\n    </tr>\n    <tr>\n      <th>996</th>\n      <td>Drew</td>\n      <td>Biessener</td>\n      <td>Tidesoftime</td>\n      <td>us</td>\n      <td>5.04e+04</td>\n      <td>Hearthstone</td>\n      <td>Collectible Card Game</td>\n    </tr>\n    <tr>\n      <th>997</th>\n      <td>Simone</td>\n      <td>Liguori</td>\n      <td>Leta</td>\n      <td>it</td>\n      <td>4.93e+04</td>\n      <td>Hearthstone</td>\n      <td>Collectible Card Game</td>\n    </tr>\n    <tr>\n      <th>998</th>\n      <td>Mike</td>\n      <td>Eichner</td>\n      <td>Ike</td>\n      <td>us</td>\n      <td>4.86e+04</td>\n      <td>Hearthstone</td>\n      <td>Collectible Card Game</td>\n    </tr>\n    <tr>\n      <th>999</th>\n      <td>Jeffrey</td>\n      <td>Brusi</td>\n      <td>SjoW</td>\n      <td>se</td>\n      <td>4.80e+04</td>\n      <td>Hearthstone</td>\n      <td>Collectible Card Game</td>\n    </tr>\n  </tbody>\n</table>\n<p>1000 rows × 7 columns</p>\n</div>"
     },
     "execution_count": 72,
     "metadata": {},
     "output_type": "execute_result"
    }
   ],
   "source": [
    "df_players = df_players.drop('PlayerId', axis=1)\n",
    "df_players"
   ],
   "metadata": {
    "collapsed": false
   }
  },
  {
   "cell_type": "markdown",
   "source": [
    "# 2) Знайти математичне сподівання, медіану, моду, дисперсію, середньоквадратичне відхилення (поясніть їх зміст)"
   ],
   "metadata": {
    "collapsed": false
   }
  },
  {
   "cell_type": "markdown",
   "source": [
    "Математичне сподівання"
   ],
   "metadata": {
    "collapsed": false
   }
  },
  {
   "cell_type": "code",
   "execution_count": 73,
   "outputs": [
    {
     "data": {
      "text/plain": "31.6961"
     },
     "execution_count": 73,
     "metadata": {},
     "output_type": "execute_result"
    }
   ],
   "source": [
    "round(df_teams['TotalTournaments'].mean(), 4)"
   ],
   "metadata": {
    "collapsed": false
   }
  },
  {
   "cell_type": "markdown",
   "source": [
    "Медіана"
   ],
   "metadata": {
    "collapsed": false
   }
  },
  {
   "cell_type": "code",
   "execution_count": 74,
   "outputs": [
    {
     "data": {
      "text/plain": "11.0"
     },
     "execution_count": 74,
     "metadata": {},
     "output_type": "execute_result"
    }
   ],
   "source": [
    "df_teams['TotalTournaments'].median()"
   ],
   "metadata": {
    "collapsed": false
   }
  },
  {
   "cell_type": "markdown",
   "source": [
    "Мода"
   ],
   "metadata": {
    "collapsed": false
   }
  },
  {
   "cell_type": "code",
   "execution_count": 75,
   "outputs": [
    {
     "data": {
      "text/plain": "0    1\nName: TotalTournaments, dtype: int64"
     },
     "execution_count": 75,
     "metadata": {},
     "output_type": "execute_result"
    }
   ],
   "source": [
    "df_teams['TotalTournaments'].mode()"
   ],
   "metadata": {
    "collapsed": false
   }
  },
  {
   "cell_type": "markdown",
   "source": [
    "Дисперсія"
   ],
   "metadata": {
    "collapsed": false
   }
  },
  {
   "cell_type": "code",
   "execution_count": 76,
   "outputs": [
    {
     "data": {
      "text/plain": "3726.2396"
     },
     "execution_count": 76,
     "metadata": {},
     "output_type": "execute_result"
    }
   ],
   "source": [
    "import statistics\n",
    "\n",
    "# variance\n",
    "round(statistics.pvariance(df_teams['TotalTournaments']), 4)"
   ],
   "metadata": {
    "collapsed": false
   }
  },
  {
   "cell_type": "markdown",
   "source": [
    "Середньоквадратичне відхилення"
   ],
   "metadata": {
    "collapsed": false
   }
  },
  {
   "cell_type": "code",
   "execution_count": 77,
   "outputs": [
    {
     "data": {
      "text/plain": "61.0429"
     },
     "execution_count": 77,
     "metadata": {},
     "output_type": "execute_result"
    }
   ],
   "source": [
    "# standard deviation\n",
    "round(statistics.pstdev(df_teams['TotalTournaments']), 4)"
   ],
   "metadata": {
    "collapsed": false
   }
  },
  {
   "cell_type": "code",
   "execution_count": 78,
   "outputs": [
    {
     "data": {
      "text/plain": "    NameFirst   NameLast CurrentHandle CountryCode  TotalUSDPrize  \\\n0       Peter  Rasmussen       dupreeh          dk       1.82e+06   \n1     Andreas   Højsleth         Xyp9x          dk       1.80e+06   \n2     Nicolai     Reedtz        dev1ce          dk       1.79e+06   \n3       Lukas  Rossander        gla1ve          dk       1.65e+06   \n4        Emil       Reif        Magisk          dk       1.42e+06   \n..        ...        ...           ...         ...            ...   \n995     Janne   Mikkonen         Savjz          fi       5.07e+04   \n996      Drew  Biessener   Tidesoftime          us       5.04e+04   \n997    Simone    Liguori          Leta          it       4.93e+04   \n998      Mike    Eichner           Ike          us       4.86e+04   \n999   Jeffrey      Brusi          SjoW          se       4.80e+04   \n\n                                 Game                  Genre  \n0    Counter-Strike: Global Offensive   First-Person Shooter  \n1    Counter-Strike: Global Offensive   First-Person Shooter  \n2    Counter-Strike: Global Offensive   First-Person Shooter  \n3    Counter-Strike: Global Offensive   First-Person Shooter  \n4    Counter-Strike: Global Offensive   First-Person Shooter  \n..                                ...                    ...  \n995                       Hearthstone  Collectible Card Game  \n996                       Hearthstone  Collectible Card Game  \n997                       Hearthstone  Collectible Card Game  \n998                       Hearthstone  Collectible Card Game  \n999                       Hearthstone  Collectible Card Game  \n\n[1000 rows x 7 columns]",
      "text/html": "<div>\n<style scoped>\n    .dataframe tbody tr th:only-of-type {\n        vertical-align: middle;\n    }\n\n    .dataframe tbody tr th {\n        vertical-align: top;\n    }\n\n    .dataframe thead th {\n        text-align: right;\n    }\n</style>\n<table border=\"1\" class=\"dataframe\">\n  <thead>\n    <tr style=\"text-align: right;\">\n      <th></th>\n      <th>NameFirst</th>\n      <th>NameLast</th>\n      <th>CurrentHandle</th>\n      <th>CountryCode</th>\n      <th>TotalUSDPrize</th>\n      <th>Game</th>\n      <th>Genre</th>\n    </tr>\n  </thead>\n  <tbody>\n    <tr>\n      <th>0</th>\n      <td>Peter</td>\n      <td>Rasmussen</td>\n      <td>dupreeh</td>\n      <td>dk</td>\n      <td>1.82e+06</td>\n      <td>Counter-Strike: Global Offensive</td>\n      <td>First-Person Shooter</td>\n    </tr>\n    <tr>\n      <th>1</th>\n      <td>Andreas</td>\n      <td>Højsleth</td>\n      <td>Xyp9x</td>\n      <td>dk</td>\n      <td>1.80e+06</td>\n      <td>Counter-Strike: Global Offensive</td>\n      <td>First-Person Shooter</td>\n    </tr>\n    <tr>\n      <th>2</th>\n      <td>Nicolai</td>\n      <td>Reedtz</td>\n      <td>dev1ce</td>\n      <td>dk</td>\n      <td>1.79e+06</td>\n      <td>Counter-Strike: Global Offensive</td>\n      <td>First-Person Shooter</td>\n    </tr>\n    <tr>\n      <th>3</th>\n      <td>Lukas</td>\n      <td>Rossander</td>\n      <td>gla1ve</td>\n      <td>dk</td>\n      <td>1.65e+06</td>\n      <td>Counter-Strike: Global Offensive</td>\n      <td>First-Person Shooter</td>\n    </tr>\n    <tr>\n      <th>4</th>\n      <td>Emil</td>\n      <td>Reif</td>\n      <td>Magisk</td>\n      <td>dk</td>\n      <td>1.42e+06</td>\n      <td>Counter-Strike: Global Offensive</td>\n      <td>First-Person Shooter</td>\n    </tr>\n    <tr>\n      <th>...</th>\n      <td>...</td>\n      <td>...</td>\n      <td>...</td>\n      <td>...</td>\n      <td>...</td>\n      <td>...</td>\n      <td>...</td>\n    </tr>\n    <tr>\n      <th>995</th>\n      <td>Janne</td>\n      <td>Mikkonen</td>\n      <td>Savjz</td>\n      <td>fi</td>\n      <td>5.07e+04</td>\n      <td>Hearthstone</td>\n      <td>Collectible Card Game</td>\n    </tr>\n    <tr>\n      <th>996</th>\n      <td>Drew</td>\n      <td>Biessener</td>\n      <td>Tidesoftime</td>\n      <td>us</td>\n      <td>5.04e+04</td>\n      <td>Hearthstone</td>\n      <td>Collectible Card Game</td>\n    </tr>\n    <tr>\n      <th>997</th>\n      <td>Simone</td>\n      <td>Liguori</td>\n      <td>Leta</td>\n      <td>it</td>\n      <td>4.93e+04</td>\n      <td>Hearthstone</td>\n      <td>Collectible Card Game</td>\n    </tr>\n    <tr>\n      <th>998</th>\n      <td>Mike</td>\n      <td>Eichner</td>\n      <td>Ike</td>\n      <td>us</td>\n      <td>4.86e+04</td>\n      <td>Hearthstone</td>\n      <td>Collectible Card Game</td>\n    </tr>\n    <tr>\n      <th>999</th>\n      <td>Jeffrey</td>\n      <td>Brusi</td>\n      <td>SjoW</td>\n      <td>se</td>\n      <td>4.80e+04</td>\n      <td>Hearthstone</td>\n      <td>Collectible Card Game</td>\n    </tr>\n  </tbody>\n</table>\n<p>1000 rows × 7 columns</p>\n</div>"
     },
     "execution_count": 78,
     "metadata": {},
     "output_type": "execute_result"
    }
   ],
   "source": [
    "df_players"
   ],
   "metadata": {
    "collapsed": false
   }
  },
  {
   "cell_type": "markdown",
   "source": [
    "# 3) Гістограма"
   ],
   "metadata": {
    "collapsed": false
   }
  },
  {
   "cell_type": "code",
   "execution_count": 79,
   "outputs": [
    {
     "data": {
      "text/plain": "array([[<AxesSubplot: title={'center': 'TotalUSDPrize'}>]], dtype=object)"
     },
     "execution_count": 79,
     "metadata": {},
     "output_type": "execute_result"
    },
    {
     "data": {
      "text/plain": "<Figure size 640x480 with 1 Axes>",
      "image/png": "[encoded data removed]"
     },
     "metadata": {},
     "output_type": "display_data"
    }
   ],
   "source": [
    "df_players.hist(bins=20)"
   ],
   "metadata": {
    "collapsed": false
   }
  },
  {
   "cell_type": "markdown",
   "source": [
    "# 4) Дії з Series i DataFrame"
   ],
   "metadata": {
    "collapsed": false
   }
  },
  {
   "cell_type": "markdown",
   "source": [
    "Серія зі стовпця"
   ],
   "metadata": {
    "collapsed": false
   }
  },
  {
   "cell_type": "code",
   "execution_count": 80,
   "outputs": [
    {
     "data": {
      "text/plain": "0      1.82e+06\n1      1.80e+06\n2      1.79e+06\n3      1.65e+06\n4      1.42e+06\n         ...   \n995    5.07e+04\n996    5.04e+04\n997    4.93e+04\n998    4.86e+04\n999    4.80e+04\nName: TotalUSDPrize, Length: 1000, dtype: float64"
     },
     "execution_count": 80,
     "metadata": {},
     "output_type": "execute_result"
    }
   ],
   "source": [
    "total_prize = df_players['TotalUSDPrize']\n",
    "total_prize"
   ],
   "metadata": {
    "collapsed": false
   }
  },
  {
   "cell_type": "markdown",
   "source": [
    "Серія з однаковими значеннями"
   ],
   "metadata": {
    "collapsed": false
   }
  },
  {
   "cell_type": "code",
   "execution_count": 81,
   "outputs": [
    {
     "data": {
      "text/plain": "0    99\n1    99\n2    99\n3    99\n4    99\n5    99\n6    99\ndtype: int64"
     },
     "execution_count": 81,
     "metadata": {},
     "output_type": "execute_result"
    }
   ],
   "source": [
    "test = pd.Series(99, range(7))\n",
    "test"
   ],
   "metadata": {
    "collapsed": false
   }
  },
  {
   "cell_type": "markdown",
   "source": [
    "Звертання за індексом"
   ],
   "metadata": {
    "collapsed": false
   }
  },
  {
   "cell_type": "code",
   "execution_count": 82,
   "outputs": [
    {
     "data": {
      "text/plain": "232167.42"
     },
     "execution_count": 82,
     "metadata": {},
     "output_type": "execute_result"
    }
   ],
   "source": [
    "total_prize[99]"
   ],
   "metadata": {
    "collapsed": false
   }
  },
  {
   "cell_type": "markdown",
   "source": [
    "Описова статистика"
   ],
   "metadata": {
    "collapsed": false
   }
  },
  {
   "cell_type": "code",
   "execution_count": 83,
   "outputs": [
    {
     "data": {
      "text/plain": "count    1.00e+03\nmean     3.98e+05\nstd      6.91e+05\nmin      2.42e+04\n25%      8.38e+04\n50%      1.68e+05\n75%      3.94e+05\nmax      6.95e+06\nName: TotalUSDPrize, dtype: float64"
     },
     "execution_count": 83,
     "metadata": {},
     "output_type": "execute_result"
    }
   ],
   "source": [
    "total_prize.describe()"
   ],
   "metadata": {
    "collapsed": false
   }
  },
  {
   "cell_type": "markdown",
   "source": [
    "Нестандартні індекси"
   ],
   "metadata": {
    "collapsed": false
   }
  },
  {
   "cell_type": "code",
   "execution_count": 84,
   "outputs": [
    {
     "data": {
      "text/plain": "ind10    10\nind20    20\nind30    30\nind40    40\ndtype: int64"
     },
     "execution_count": 84,
     "metadata": {},
     "output_type": "execute_result"
    }
   ],
   "source": [
    "test = pd.Series([10, 20, 30, 40], index=['ind10', 'ind20', 'ind30', 'ind40'])\n",
    "test"
   ],
   "metadata": {
    "collapsed": false
   }
  },
  {
   "cell_type": "code",
   "execution_count": 85,
   "outputs": [
    {
     "data": {
      "text/plain": "10"
     },
     "execution_count": 85,
     "metadata": {},
     "output_type": "execute_result"
    }
   ],
   "source": [
    "test['ind10']"
   ],
   "metadata": {
    "collapsed": false
   }
  },
  {
   "cell_type": "markdown",
   "source": [
    "Створюємо Pandas Series зі словника"
   ],
   "metadata": {
    "collapsed": false
   }
  },
  {
   "cell_type": "code",
   "execution_count": 86,
   "outputs": [
    {
     "data": {
      "text/plain": "a    1\nb    2\nc    3\ndtype: int64"
     },
     "execution_count": 86,
     "metadata": {},
     "output_type": "execute_result"
    }
   ],
   "source": [
    "data = {'a': 1, 'b': 2, 'c': 3}\n",
    "pd.Series(data)"
   ],
   "metadata": {
    "collapsed": false
   }
  },
  {
   "cell_type": "markdown",
   "source": [
    "Створюємо DataFrame зі словника"
   ],
   "metadata": {
    "collapsed": false
   }
  },
  {
   "cell_type": "code",
   "execution_count": 87,
   "outputs": [
    {
     "data": {
      "text/plain": "   country capital  population\n0  Ukraine    Kyiv        42.4\n1   France   Paris        66.9\n2    Spain  Madrid        46.7\n3  Germany  Berlin        83.2",
      "text/html": "<div>\n<style scoped>\n    .dataframe tbody tr th:only-of-type {\n        vertical-align: middle;\n    }\n\n    .dataframe tbody tr th {\n        vertical-align: top;\n    }\n\n    .dataframe thead th {\n        text-align: right;\n    }\n</style>\n<table border=\"1\" class=\"dataframe\">\n  <thead>\n    <tr style=\"text-align: right;\">\n      <th></th>\n      <th>country</th>\n      <th>capital</th>\n      <th>population</th>\n    </tr>\n  </thead>\n  <tbody>\n    <tr>\n      <th>0</th>\n      <td>Ukraine</td>\n      <td>Kyiv</td>\n      <td>42.4</td>\n    </tr>\n    <tr>\n      <th>1</th>\n      <td>France</td>\n      <td>Paris</td>\n      <td>66.9</td>\n    </tr>\n    <tr>\n      <th>2</th>\n      <td>Spain</td>\n      <td>Madrid</td>\n      <td>46.7</td>\n    </tr>\n    <tr>\n      <th>3</th>\n      <td>Germany</td>\n      <td>Berlin</td>\n      <td>83.2</td>\n    </tr>\n  </tbody>\n</table>\n</div>"
     },
     "execution_count": 87,
     "metadata": {},
     "output_type": "execute_result"
    }
   ],
   "source": [
    "data = {'country': ['Ukraine', 'France', 'Spain', 'Germany'],\n",
    "        'capital': ['Kyiv', 'Paris', 'Madrid', 'Berlin'],\n",
    "        'population': [42.4, 66.9, 46.7, 83.2]}\n",
    "test_df = pd.DataFrame(data)\n",
    "test_df"
   ],
   "metadata": {
    "collapsed": false
   }
  },
  {
   "cell_type": "code",
   "execution_count": 88,
   "outputs": [
    {
     "data": {
      "text/plain": "0    Ukraine\n1     France\n2      Spain\n3    Germany\nName: country, dtype: object"
     },
     "execution_count": 88,
     "metadata": {},
     "output_type": "execute_result"
    }
   ],
   "source": [
    "test_df['country']"
   ],
   "metadata": {
    "collapsed": false
   }
  },
  {
   "cell_type": "markdown",
   "source": [
    "loc / iloc"
   ],
   "metadata": {
    "collapsed": false
   }
  },
  {
   "cell_type": "code",
   "execution_count": 89,
   "outputs": [
    {
     "data": {
      "text/plain": "      country capital  population\nind1  Ukraine    Kyiv        42.4\nind2   France   Paris        66.9\nind3    Spain  Madrid        46.7\nind4  Germany  Berlin        83.2",
      "text/html": "<div>\n<style scoped>\n    .dataframe tbody tr th:only-of-type {\n        vertical-align: middle;\n    }\n\n    .dataframe tbody tr th {\n        vertical-align: top;\n    }\n\n    .dataframe thead th {\n        text-align: right;\n    }\n</style>\n<table border=\"1\" class=\"dataframe\">\n  <thead>\n    <tr style=\"text-align: right;\">\n      <th></th>\n      <th>country</th>\n      <th>capital</th>\n      <th>population</th>\n    </tr>\n  </thead>\n  <tbody>\n    <tr>\n      <th>ind1</th>\n      <td>Ukraine</td>\n      <td>Kyiv</td>\n      <td>42.4</td>\n    </tr>\n    <tr>\n      <th>ind2</th>\n      <td>France</td>\n      <td>Paris</td>\n      <td>66.9</td>\n    </tr>\n    <tr>\n      <th>ind3</th>\n      <td>Spain</td>\n      <td>Madrid</td>\n      <td>46.7</td>\n    </tr>\n    <tr>\n      <th>ind4</th>\n      <td>Germany</td>\n      <td>Berlin</td>\n      <td>83.2</td>\n    </tr>\n  </tbody>\n</table>\n</div>"
     },
     "execution_count": 89,
     "metadata": {},
     "output_type": "execute_result"
    }
   ],
   "source": [
    "test_df.index = ['ind1', 'ind2', 'ind3', 'ind4']\n",
    "test_df"
   ],
   "metadata": {
    "collapsed": false
   }
  },
  {
   "cell_type": "code",
   "execution_count": 90,
   "outputs": [
    {
     "data": {
      "text/plain": "country       Ukraine\ncapital          Kyiv\npopulation       42.4\nName: ind1, dtype: object"
     },
     "execution_count": 90,
     "metadata": {},
     "output_type": "execute_result"
    }
   ],
   "source": [
    "test_df.loc['ind1']"
   ],
   "metadata": {
    "collapsed": false
   }
  },
  {
   "cell_type": "code",
   "execution_count": 91,
   "outputs": [
    {
     "data": {
      "text/plain": "country       Ukraine\ncapital          Kyiv\npopulation       42.4\nName: ind1, dtype: object"
     },
     "execution_count": 91,
     "metadata": {},
     "output_type": "execute_result"
    }
   ],
   "source": [
    "test_df.iloc[0]"
   ],
   "metadata": {
    "collapsed": false
   }
  },
  {
   "cell_type": "code",
   "execution_count": 92,
   "outputs": [
    {
     "data": {
      "text/plain": "      country capital  population\nind1  Ukraine    Kyiv        42.4\nind2   France   Paris        66.9\nind3    Spain  Madrid        46.7",
      "text/html": "<div>\n<style scoped>\n    .dataframe tbody tr th:only-of-type {\n        vertical-align: middle;\n    }\n\n    .dataframe tbody tr th {\n        vertical-align: top;\n    }\n\n    .dataframe thead th {\n        text-align: right;\n    }\n</style>\n<table border=\"1\" class=\"dataframe\">\n  <thead>\n    <tr style=\"text-align: right;\">\n      <th></th>\n      <th>country</th>\n      <th>capital</th>\n      <th>population</th>\n    </tr>\n  </thead>\n  <tbody>\n    <tr>\n      <th>ind1</th>\n      <td>Ukraine</td>\n      <td>Kyiv</td>\n      <td>42.4</td>\n    </tr>\n    <tr>\n      <th>ind2</th>\n      <td>France</td>\n      <td>Paris</td>\n      <td>66.9</td>\n    </tr>\n    <tr>\n      <th>ind3</th>\n      <td>Spain</td>\n      <td>Madrid</td>\n      <td>46.7</td>\n    </tr>\n  </tbody>\n</table>\n</div>"
     },
     "execution_count": 92,
     "metadata": {},
     "output_type": "execute_result"
    }
   ],
   "source": [
    "test_df.loc['ind1': 'ind3']"
   ],
   "metadata": {
    "collapsed": false
   }
  },
  {
   "cell_type": "code",
   "execution_count": 93,
   "outputs": [
    {
     "data": {
      "text/plain": "      country capital  population\nind1  Ukraine    Kyiv        42.4\nind2   France   Paris        66.9\nind3    Spain  Madrid        46.7",
      "text/html": "<div>\n<style scoped>\n    .dataframe tbody tr th:only-of-type {\n        vertical-align: middle;\n    }\n\n    .dataframe tbody tr th {\n        vertical-align: top;\n    }\n\n    .dataframe thead th {\n        text-align: right;\n    }\n</style>\n<table border=\"1\" class=\"dataframe\">\n  <thead>\n    <tr style=\"text-align: right;\">\n      <th></th>\n      <th>country</th>\n      <th>capital</th>\n      <th>population</th>\n    </tr>\n  </thead>\n  <tbody>\n    <tr>\n      <th>ind1</th>\n      <td>Ukraine</td>\n      <td>Kyiv</td>\n      <td>42.4</td>\n    </tr>\n    <tr>\n      <th>ind2</th>\n      <td>France</td>\n      <td>Paris</td>\n      <td>66.9</td>\n    </tr>\n    <tr>\n      <th>ind3</th>\n      <td>Spain</td>\n      <td>Madrid</td>\n      <td>46.7</td>\n    </tr>\n  </tbody>\n</table>\n</div>"
     },
     "execution_count": 93,
     "metadata": {},
     "output_type": "execute_result"
    }
   ],
   "source": [
    "test_df.iloc[0: 3]"
   ],
   "metadata": {
    "collapsed": false
   }
  },
  {
   "cell_type": "code",
   "execution_count": 94,
   "outputs": [
    {
     "data": {
      "text/plain": "      country capital  population\nind1  Ukraine    Kyiv        42.4\nind3    Spain  Madrid        46.7",
      "text/html": "<div>\n<style scoped>\n    .dataframe tbody tr th:only-of-type {\n        vertical-align: middle;\n    }\n\n    .dataframe tbody tr th {\n        vertical-align: top;\n    }\n\n    .dataframe thead th {\n        text-align: right;\n    }\n</style>\n<table border=\"1\" class=\"dataframe\">\n  <thead>\n    <tr style=\"text-align: right;\">\n      <th></th>\n      <th>country</th>\n      <th>capital</th>\n      <th>population</th>\n    </tr>\n  </thead>\n  <tbody>\n    <tr>\n      <th>ind1</th>\n      <td>Ukraine</td>\n      <td>Kyiv</td>\n      <td>42.4</td>\n    </tr>\n    <tr>\n      <th>ind3</th>\n      <td>Spain</td>\n      <td>Madrid</td>\n      <td>46.7</td>\n    </tr>\n  </tbody>\n</table>\n</div>"
     },
     "execution_count": 94,
     "metadata": {},
     "output_type": "execute_result"
    }
   ],
   "source": [
    "test_df.loc[['ind1', 'ind3']]"
   ],
   "metadata": {
    "collapsed": false
   }
  },
  {
   "cell_type": "code",
   "execution_count": 95,
   "outputs": [
    {
     "data": {
      "text/plain": "      country capital  population\nind1  Ukraine    Kyiv        42.4\nind4  Germany  Berlin        83.2",
      "text/html": "<div>\n<style scoped>\n    .dataframe tbody tr th:only-of-type {\n        vertical-align: middle;\n    }\n\n    .dataframe tbody tr th {\n        vertical-align: top;\n    }\n\n    .dataframe thead th {\n        text-align: right;\n    }\n</style>\n<table border=\"1\" class=\"dataframe\">\n  <thead>\n    <tr style=\"text-align: right;\">\n      <th></th>\n      <th>country</th>\n      <th>capital</th>\n      <th>population</th>\n    </tr>\n  </thead>\n  <tbody>\n    <tr>\n      <th>ind1</th>\n      <td>Ukraine</td>\n      <td>Kyiv</td>\n      <td>42.4</td>\n    </tr>\n    <tr>\n      <th>ind4</th>\n      <td>Germany</td>\n      <td>Berlin</td>\n      <td>83.2</td>\n    </tr>\n  </tbody>\n</table>\n</div>"
     },
     "execution_count": 95,
     "metadata": {},
     "output_type": "execute_result"
    }
   ],
   "source": [
    "test_df.iloc[[0, 3]]"
   ],
   "metadata": {
    "collapsed": false
   }
  },
  {
   "cell_type": "code",
   "execution_count": 96,
   "outputs": [
    {
     "data": {
      "text/plain": "       Name  Age      City  Salary\nind1   John   25  New York   50000\nind2  Alice   30    London   60000\nind3    Bob   22     Paris   45000\nind4  Emily   28     Tokyo   70000\nind5  David   35    Sydney   55000",
      "text/html": "<div>\n<style scoped>\n    .dataframe tbody tr th:only-of-type {\n        vertical-align: middle;\n    }\n\n    .dataframe tbody tr th {\n        vertical-align: top;\n    }\n\n    .dataframe thead th {\n        text-align: right;\n    }\n</style>\n<table border=\"1\" class=\"dataframe\">\n  <thead>\n    <tr style=\"text-align: right;\">\n      <th></th>\n      <th>Name</th>\n      <th>Age</th>\n      <th>City</th>\n      <th>Salary</th>\n    </tr>\n  </thead>\n  <tbody>\n    <tr>\n      <th>ind1</th>\n      <td>John</td>\n      <td>25</td>\n      <td>New York</td>\n      <td>50000</td>\n    </tr>\n    <tr>\n      <th>ind2</th>\n      <td>Alice</td>\n      <td>30</td>\n      <td>London</td>\n      <td>60000</td>\n    </tr>\n    <tr>\n      <th>ind3</th>\n      <td>Bob</td>\n      <td>22</td>\n      <td>Paris</td>\n      <td>45000</td>\n    </tr>\n    <tr>\n      <th>ind4</th>\n      <td>Emily</td>\n      <td>28</td>\n      <td>Tokyo</td>\n      <td>70000</td>\n    </tr>\n    <tr>\n      <th>ind5</th>\n      <td>David</td>\n      <td>35</td>\n      <td>Sydney</td>\n      <td>55000</td>\n    </tr>\n  </tbody>\n</table>\n</div>"
     },
     "execution_count": 96,
     "metadata": {},
     "output_type": "execute_result"
    }
   ],
   "source": [
    "test_df = pd.DataFrame({\n",
    "    'Name': ['John', 'Alice', 'Bob', 'Emily', 'David'],\n",
    "    'Age': [25, 30, 22, 28, 35],\n",
    "    'City': ['New York', 'London', 'Paris', 'Tokyo', 'Sydney'],\n",
    "    'Salary': [50000, 60000, 45000, 70000, 55000]\n",
    "}, index=['ind1', 'ind2', 'ind3', 'ind4', 'ind5'])\n",
    "test_df"
   ],
   "metadata": {
    "collapsed": false
   }
  },
  {
   "cell_type": "code",
   "execution_count": 97,
   "outputs": [
    {
     "data": {
      "text/plain": "       Name  Age    City  Salary\nind2  Alice   30  London   60000\nind4  Emily   28   Tokyo   70000\nind5  David   35  Sydney   55000",
      "text/html": "<div>\n<style scoped>\n    .dataframe tbody tr th:only-of-type {\n        vertical-align: middle;\n    }\n\n    .dataframe tbody tr th {\n        vertical-align: top;\n    }\n\n    .dataframe thead th {\n        text-align: right;\n    }\n</style>\n<table border=\"1\" class=\"dataframe\">\n  <thead>\n    <tr style=\"text-align: right;\">\n      <th></th>\n      <th>Name</th>\n      <th>Age</th>\n      <th>City</th>\n      <th>Salary</th>\n    </tr>\n  </thead>\n  <tbody>\n    <tr>\n      <th>ind2</th>\n      <td>Alice</td>\n      <td>30</td>\n      <td>London</td>\n      <td>60000</td>\n    </tr>\n    <tr>\n      <th>ind4</th>\n      <td>Emily</td>\n      <td>28</td>\n      <td>Tokyo</td>\n      <td>70000</td>\n    </tr>\n    <tr>\n      <th>ind5</th>\n      <td>David</td>\n      <td>35</td>\n      <td>Sydney</td>\n      <td>55000</td>\n    </tr>\n  </tbody>\n</table>\n</div>"
     },
     "execution_count": 97,
     "metadata": {},
     "output_type": "execute_result"
    }
   ],
   "source": [
    "test_df[test_df['Age'] > 25]"
   ],
   "metadata": {
    "collapsed": false
   }
  },
  {
   "cell_type": "code",
   "execution_count": 98,
   "outputs": [
    {
     "data": {
      "text/plain": "       Name  Age    City  Salary\nind2  Alice   30  London   60000\nind5  David   35  Sydney   55000",
      "text/html": "<div>\n<style scoped>\n    .dataframe tbody tr th:only-of-type {\n        vertical-align: middle;\n    }\n\n    .dataframe tbody tr th {\n        vertical-align: top;\n    }\n\n    .dataframe thead th {\n        text-align: right;\n    }\n</style>\n<table border=\"1\" class=\"dataframe\">\n  <thead>\n    <tr style=\"text-align: right;\">\n      <th></th>\n      <th>Name</th>\n      <th>Age</th>\n      <th>City</th>\n      <th>Salary</th>\n    </tr>\n  </thead>\n  <tbody>\n    <tr>\n      <th>ind2</th>\n      <td>Alice</td>\n      <td>30</td>\n      <td>London</td>\n      <td>60000</td>\n    </tr>\n    <tr>\n      <th>ind5</th>\n      <td>David</td>\n      <td>35</td>\n      <td>Sydney</td>\n      <td>55000</td>\n    </tr>\n  </tbody>\n</table>\n</div>"
     },
     "execution_count": 98,
     "metadata": {},
     "output_type": "execute_result"
    }
   ],
   "source": [
    "test_df[(test_df['Age'] > 25) & (test_df['Salary'] < 70000)]"
   ],
   "metadata": {
    "collapsed": false
   }
  },
  {
   "cell_type": "code",
   "execution_count": 99,
   "outputs": [
    {
     "data": {
      "text/plain": "25"
     },
     "execution_count": 99,
     "metadata": {},
     "output_type": "execute_result"
    }
   ],
   "source": [
    "test_df.at['ind1', 'Age']"
   ],
   "metadata": {
    "collapsed": false
   }
  },
  {
   "cell_type": "code",
   "execution_count": 100,
   "outputs": [
    {
     "data": {
      "text/plain": "         Age    Salary\ncount   5.00      5.00\nmean   28.00  56000.00\nstd     4.95   9617.69\nmin    22.00  45000.00\n25%    25.00  50000.00\n50%    28.00  55000.00\n75%    30.00  60000.00\nmax    35.00  70000.00",
      "text/html": "<div>\n<style scoped>\n    .dataframe tbody tr th:only-of-type {\n        vertical-align: middle;\n    }\n\n    .dataframe tbody tr th {\n        vertical-align: top;\n    }\n\n    .dataframe thead th {\n        text-align: right;\n    }\n</style>\n<table border=\"1\" class=\"dataframe\">\n  <thead>\n    <tr style=\"text-align: right;\">\n      <th></th>\n      <th>Age</th>\n      <th>Salary</th>\n    </tr>\n  </thead>\n  <tbody>\n    <tr>\n      <th>count</th>\n      <td>5.00</td>\n      <td>5.00</td>\n    </tr>\n    <tr>\n      <th>mean</th>\n      <td>28.00</td>\n      <td>56000.00</td>\n    </tr>\n    <tr>\n      <th>std</th>\n      <td>4.95</td>\n      <td>9617.69</td>\n    </tr>\n    <tr>\n      <th>min</th>\n      <td>22.00</td>\n      <td>45000.00</td>\n    </tr>\n    <tr>\n      <th>25%</th>\n      <td>25.00</td>\n      <td>50000.00</td>\n    </tr>\n    <tr>\n      <th>50%</th>\n      <td>28.00</td>\n      <td>55000.00</td>\n    </tr>\n    <tr>\n      <th>75%</th>\n      <td>30.00</td>\n      <td>60000.00</td>\n    </tr>\n    <tr>\n      <th>max</th>\n      <td>35.00</td>\n      <td>70000.00</td>\n    </tr>\n  </tbody>\n</table>\n</div>"
     },
     "execution_count": 100,
     "metadata": {},
     "output_type": "execute_result"
    }
   ],
   "source": [
    "test_df.describe()"
   ],
   "metadata": {
    "collapsed": false
   }
  },
  {
   "cell_type": "code",
   "execution_count": 101,
   "outputs": [
    {
     "data": {
      "text/plain": "            ind1    ind2   ind3   ind4    ind5\nName        John   Alice    Bob  Emily   David\nAge           25      30     22     28      35\nCity    New York  London  Paris  Tokyo  Sydney\nSalary     50000   60000  45000  70000   55000",
      "text/html": "<div>\n<style scoped>\n    .dataframe tbody tr th:only-of-type {\n        vertical-align: middle;\n    }\n\n    .dataframe tbody tr th {\n        vertical-align: top;\n    }\n\n    .dataframe thead th {\n        text-align: right;\n    }\n</style>\n<table border=\"1\" class=\"dataframe\">\n  <thead>\n    <tr style=\"text-align: right;\">\n      <th></th>\n      <th>ind1</th>\n      <th>ind2</th>\n      <th>ind3</th>\n      <th>ind4</th>\n      <th>ind5</th>\n    </tr>\n  </thead>\n  <tbody>\n    <tr>\n      <th>Name</th>\n      <td>John</td>\n      <td>Alice</td>\n      <td>Bob</td>\n      <td>Emily</td>\n      <td>David</td>\n    </tr>\n    <tr>\n      <th>Age</th>\n      <td>25</td>\n      <td>30</td>\n      <td>22</td>\n      <td>28</td>\n      <td>35</td>\n    </tr>\n    <tr>\n      <th>City</th>\n      <td>New York</td>\n      <td>London</td>\n      <td>Paris</td>\n      <td>Tokyo</td>\n      <td>Sydney</td>\n    </tr>\n    <tr>\n      <th>Salary</th>\n      <td>50000</td>\n      <td>60000</td>\n      <td>45000</td>\n      <td>70000</td>\n      <td>55000</td>\n    </tr>\n  </tbody>\n</table>\n</div>"
     },
     "execution_count": 101,
     "metadata": {},
     "output_type": "execute_result"
    }
   ],
   "source": [
    "test_df.T"
   ],
   "metadata": {
    "collapsed": false
   }
  },
  {
   "cell_type": "code",
   "execution_count": 102,
   "outputs": [
    {
     "data": {
      "text/plain": "        ind1   ind2 ind3   ind4   ind5\ncount      4      4    4      4      4\nunique     4      4    4      4      4\ntop     John  Alice  Bob  Emily  David\nfreq       1      1    1      1      1",
      "text/html": "<div>\n<style scoped>\n    .dataframe tbody tr th:only-of-type {\n        vertical-align: middle;\n    }\n\n    .dataframe tbody tr th {\n        vertical-align: top;\n    }\n\n    .dataframe thead th {\n        text-align: right;\n    }\n</style>\n<table border=\"1\" class=\"dataframe\">\n  <thead>\n    <tr style=\"text-align: right;\">\n      <th></th>\n      <th>ind1</th>\n      <th>ind2</th>\n      <th>ind3</th>\n      <th>ind4</th>\n      <th>ind5</th>\n    </tr>\n  </thead>\n  <tbody>\n    <tr>\n      <th>count</th>\n      <td>4</td>\n      <td>4</td>\n      <td>4</td>\n      <td>4</td>\n      <td>4</td>\n    </tr>\n    <tr>\n      <th>unique</th>\n      <td>4</td>\n      <td>4</td>\n      <td>4</td>\n      <td>4</td>\n      <td>4</td>\n    </tr>\n    <tr>\n      <th>top</th>\n      <td>John</td>\n      <td>Alice</td>\n      <td>Bob</td>\n      <td>Emily</td>\n      <td>David</td>\n    </tr>\n    <tr>\n      <th>freq</th>\n      <td>1</td>\n      <td>1</td>\n      <td>1</td>\n      <td>1</td>\n      <td>1</td>\n    </tr>\n  </tbody>\n</table>\n</div>"
     },
     "execution_count": 102,
     "metadata": {},
     "output_type": "execute_result"
    }
   ],
   "source": [
    "test_df.T.describe()"
   ],
   "metadata": {
    "collapsed": false
   }
  },
  {
   "cell_type": "code",
   "execution_count": 103,
   "outputs": [
    {
     "data": {
      "text/plain": "       Name  Age      City  Salary\nind5  David   35    Sydney   55000\nind4  Emily   28     Tokyo   70000\nind3    Bob   22     Paris   45000\nind2  Alice   30    London   60000\nind1   John   25  New York   50000",
      "text/html": "<div>\n<style scoped>\n    .dataframe tbody tr th:only-of-type {\n        vertical-align: middle;\n    }\n\n    .dataframe tbody tr th {\n        vertical-align: top;\n    }\n\n    .dataframe thead th {\n        text-align: right;\n    }\n</style>\n<table border=\"1\" class=\"dataframe\">\n  <thead>\n    <tr style=\"text-align: right;\">\n      <th></th>\n      <th>Name</th>\n      <th>Age</th>\n      <th>City</th>\n      <th>Salary</th>\n    </tr>\n  </thead>\n  <tbody>\n    <tr>\n      <th>ind5</th>\n      <td>David</td>\n      <td>35</td>\n      <td>Sydney</td>\n      <td>55000</td>\n    </tr>\n    <tr>\n      <th>ind4</th>\n      <td>Emily</td>\n      <td>28</td>\n      <td>Tokyo</td>\n      <td>70000</td>\n    </tr>\n    <tr>\n      <th>ind3</th>\n      <td>Bob</td>\n      <td>22</td>\n      <td>Paris</td>\n      <td>45000</td>\n    </tr>\n    <tr>\n      <th>ind2</th>\n      <td>Alice</td>\n      <td>30</td>\n      <td>London</td>\n      <td>60000</td>\n    </tr>\n    <tr>\n      <th>ind1</th>\n      <td>John</td>\n      <td>25</td>\n      <td>New York</td>\n      <td>50000</td>\n    </tr>\n  </tbody>\n</table>\n</div>"
     },
     "execution_count": 103,
     "metadata": {},
     "output_type": "execute_result"
    }
   ],
   "source": [
    "test_df.sort_index(ascending=False)"
   ],
   "metadata": {
    "collapsed": false
   }
  },
  {
   "cell_type": "code",
   "execution_count": 104,
   "outputs": [
    {
     "data": {
      "text/plain": "      Salary   Name      City  Age\nind1   50000   John  New York   25\nind2   60000  Alice    London   30\nind3   45000    Bob     Paris   22\nind4   70000  Emily     Tokyo   28\nind5   55000  David    Sydney   35",
      "text/html": "<div>\n<style scoped>\n    .dataframe tbody tr th:only-of-type {\n        vertical-align: middle;\n    }\n\n    .dataframe tbody tr th {\n        vertical-align: top;\n    }\n\n    .dataframe thead th {\n        text-align: right;\n    }\n</style>\n<table border=\"1\" class=\"dataframe\">\n  <thead>\n    <tr style=\"text-align: right;\">\n      <th></th>\n      <th>Salary</th>\n      <th>Name</th>\n      <th>City</th>\n      <th>Age</th>\n    </tr>\n  </thead>\n  <tbody>\n    <tr>\n      <th>ind1</th>\n      <td>50000</td>\n      <td>John</td>\n      <td>New York</td>\n      <td>25</td>\n    </tr>\n    <tr>\n      <th>ind2</th>\n      <td>60000</td>\n      <td>Alice</td>\n      <td>London</td>\n      <td>30</td>\n    </tr>\n    <tr>\n      <th>ind3</th>\n      <td>45000</td>\n      <td>Bob</td>\n      <td>Paris</td>\n      <td>22</td>\n    </tr>\n    <tr>\n      <th>ind4</th>\n      <td>70000</td>\n      <td>Emily</td>\n      <td>Tokyo</td>\n      <td>28</td>\n    </tr>\n    <tr>\n      <th>ind5</th>\n      <td>55000</td>\n      <td>David</td>\n      <td>Sydney</td>\n      <td>35</td>\n    </tr>\n  </tbody>\n</table>\n</div>"
     },
     "execution_count": 104,
     "metadata": {},
     "output_type": "execute_result"
    }
   ],
   "source": [
    "test_df.sort_index(axis=1, ascending=False)"
   ],
   "metadata": {
    "collapsed": false
   }
  },
  {
   "cell_type": "code",
   "execution_count": 105,
   "outputs": [
    {
     "data": {
      "text/plain": "       Name  Age      City  Salary\nind3    Bob   22     Paris   45000\nind1   John   25  New York   50000\nind4  Emily   28     Tokyo   70000\nind2  Alice   30    London   60000\nind5  David   35    Sydney   55000",
      "text/html": "<div>\n<style scoped>\n    .dataframe tbody tr th:only-of-type {\n        vertical-align: middle;\n    }\n\n    .dataframe tbody tr th {\n        vertical-align: top;\n    }\n\n    .dataframe thead th {\n        text-align: right;\n    }\n</style>\n<table border=\"1\" class=\"dataframe\">\n  <thead>\n    <tr style=\"text-align: right;\">\n      <th></th>\n      <th>Name</th>\n      <th>Age</th>\n      <th>City</th>\n      <th>Salary</th>\n    </tr>\n  </thead>\n  <tbody>\n    <tr>\n      <th>ind3</th>\n      <td>Bob</td>\n      <td>22</td>\n      <td>Paris</td>\n      <td>45000</td>\n    </tr>\n    <tr>\n      <th>ind1</th>\n      <td>John</td>\n      <td>25</td>\n      <td>New York</td>\n      <td>50000</td>\n    </tr>\n    <tr>\n      <th>ind4</th>\n      <td>Emily</td>\n      <td>28</td>\n      <td>Tokyo</td>\n      <td>70000</td>\n    </tr>\n    <tr>\n      <th>ind2</th>\n      <td>Alice</td>\n      <td>30</td>\n      <td>London</td>\n      <td>60000</td>\n    </tr>\n    <tr>\n      <th>ind5</th>\n      <td>David</td>\n      <td>35</td>\n      <td>Sydney</td>\n      <td>55000</td>\n    </tr>\n  </tbody>\n</table>\n</div>"
     },
     "execution_count": 105,
     "metadata": {},
     "output_type": "execute_result"
    }
   ],
   "source": [
    "test_df.sort_values(by='Age')"
   ],
   "metadata": {
    "collapsed": false
   }
  },
  {
   "cell_type": "markdown",
   "source": [
    "# Titanic"
   ],
   "metadata": {
    "collapsed": false
   }
  },
  {
   "cell_type": "code",
   "execution_count": 106,
   "outputs": [],
   "source": [
    "import pandas as pd"
   ],
   "metadata": {
    "collapsed": false
   }
  },
  {
   "cell_type": "code",
   "execution_count": 107,
   "outputs": [
    {
     "data": {
      "text/plain": "                           Unnamed: 0 survived     sex    age passengerClass\n0       Allen, Miss. Elisabeth Walton      yes  female  29.00            1st\n1      Allison, Master. Hudson Trevor      yes    male   0.92            1st\n2        Allison, Miss. Helen Loraine       no  female   2.00            1st\n3     Allison, Mr. Hudson Joshua Crei       no    male  30.00            1st\n4     Allison, Mrs. Hudson J C (Bessi       no  female  25.00            1st\n...                               ...      ...     ...    ...            ...\n1304             Zabour, Miss. Hileni       no  female  14.50            3rd\n1305            Zabour, Miss. Thamine       no  female    NaN            3rd\n1306        Zakarian, Mr. Mapriededer       no    male  26.50            3rd\n1307              Zakarian, Mr. Ortin       no    male  27.00            3rd\n1308               Zimmerman, Mr. Leo       no    male  29.00            3rd\n\n[1309 rows x 5 columns]",
      "text/html": "<div>\n<style scoped>\n    .dataframe tbody tr th:only-of-type {\n        vertical-align: middle;\n    }\n\n    .dataframe tbody tr th {\n        vertical-align: top;\n    }\n\n    .dataframe thead th {\n        text-align: right;\n    }\n</style>\n<table border=\"1\" class=\"dataframe\">\n  <thead>\n    <tr style=\"text-align: right;\">\n      <th></th>\n      <th>Unnamed: 0</th>\n      <th>survived</th>\n      <th>sex</th>\n      <th>age</th>\n      <th>passengerClass</th>\n    </tr>\n  </thead>\n  <tbody>\n    <tr>\n      <th>0</th>\n      <td>Allen, Miss. Elisabeth Walton</td>\n      <td>yes</td>\n      <td>female</td>\n      <td>29.00</td>\n      <td>1st</td>\n    </tr>\n    <tr>\n      <th>1</th>\n      <td>Allison, Master. Hudson Trevor</td>\n      <td>yes</td>\n      <td>male</td>\n      <td>0.92</td>\n      <td>1st</td>\n    </tr>\n    <tr>\n      <th>2</th>\n      <td>Allison, Miss. Helen Loraine</td>\n      <td>no</td>\n      <td>female</td>\n      <td>2.00</td>\n      <td>1st</td>\n    </tr>\n    <tr>\n      <th>3</th>\n      <td>Allison, Mr. Hudson Joshua Crei</td>\n      <td>no</td>\n      <td>male</td>\n      <td>30.00</td>\n      <td>1st</td>\n    </tr>\n    <tr>\n      <th>4</th>\n      <td>Allison, Mrs. Hudson J C (Bessi</td>\n      <td>no</td>\n      <td>female</td>\n      <td>25.00</td>\n      <td>1st</td>\n    </tr>\n    <tr>\n      <th>...</th>\n      <td>...</td>\n      <td>...</td>\n      <td>...</td>\n      <td>...</td>\n      <td>...</td>\n    </tr>\n    <tr>\n      <th>1304</th>\n      <td>Zabour, Miss. Hileni</td>\n      <td>no</td>\n      <td>female</td>\n      <td>14.50</td>\n      <td>3rd</td>\n    </tr>\n    <tr>\n      <th>1305</th>\n      <td>Zabour, Miss. Thamine</td>\n      <td>no</td>\n      <td>female</td>\n      <td>NaN</td>\n      <td>3rd</td>\n    </tr>\n    <tr>\n      <th>1306</th>\n      <td>Zakarian, Mr. Mapriededer</td>\n      <td>no</td>\n      <td>male</td>\n      <td>26.50</td>\n      <td>3rd</td>\n    </tr>\n    <tr>\n      <th>1307</th>\n      <td>Zakarian, Mr. Ortin</td>\n      <td>no</td>\n      <td>male</td>\n      <td>27.00</td>\n      <td>3rd</td>\n    </tr>\n    <tr>\n      <th>1308</th>\n      <td>Zimmerman, Mr. Leo</td>\n      <td>no</td>\n      <td>male</td>\n      <td>29.00</td>\n      <td>3rd</td>\n    </tr>\n  </tbody>\n</table>\n<p>1309 rows × 5 columns</p>\n</div>"
     },
     "execution_count": 107,
     "metadata": {},
     "output_type": "execute_result"
    }
   ],
   "source": [
    "titanic = pd.read_csv('https://vincentarelbundock.github.io/Rdatasets/csv/carData/TitanicSurvival.csv')\n",
    "titanic"
   ],
   "metadata": {
    "collapsed": false
   }
  },
  {
   "cell_type": "code",
   "execution_count": 108,
   "outputs": [],
   "source": [
    "pd.set_option('display.precision', 2)"
   ],
   "metadata": {
    "collapsed": false
   }
  },
  {
   "cell_type": "code",
   "execution_count": 109,
   "outputs": [
    {
     "data": {
      "text/plain": "                        Unnamed: 0 survived     sex    age passengerClass\n0    Allen, Miss. Elisabeth Walton      yes  female  29.00            1st\n1   Allison, Master. Hudson Trevor      yes    male   0.92            1st\n2     Allison, Miss. Helen Loraine       no  female   2.00            1st\n3  Allison, Mr. Hudson Joshua Crei       no    male  30.00            1st\n4  Allison, Mrs. Hudson J C (Bessi       no  female  25.00            1st",
      "text/html": "<div>\n<style scoped>\n    .dataframe tbody tr th:only-of-type {\n        vertical-align: middle;\n    }\n\n    .dataframe tbody tr th {\n        vertical-align: top;\n    }\n\n    .dataframe thead th {\n        text-align: right;\n    }\n</style>\n<table border=\"1\" class=\"dataframe\">\n  <thead>\n    <tr style=\"text-align: right;\">\n      <th></th>\n      <th>Unnamed: 0</th>\n      <th>survived</th>\n      <th>sex</th>\n      <th>age</th>\n      <th>passengerClass</th>\n    </tr>\n  </thead>\n  <tbody>\n    <tr>\n      <th>0</th>\n      <td>Allen, Miss. Elisabeth Walton</td>\n      <td>yes</td>\n      <td>female</td>\n      <td>29.00</td>\n      <td>1st</td>\n    </tr>\n    <tr>\n      <th>1</th>\n      <td>Allison, Master. Hudson Trevor</td>\n      <td>yes</td>\n      <td>male</td>\n      <td>0.92</td>\n      <td>1st</td>\n    </tr>\n    <tr>\n      <th>2</th>\n      <td>Allison, Miss. Helen Loraine</td>\n      <td>no</td>\n      <td>female</td>\n      <td>2.00</td>\n      <td>1st</td>\n    </tr>\n    <tr>\n      <th>3</th>\n      <td>Allison, Mr. Hudson Joshua Crei</td>\n      <td>no</td>\n      <td>male</td>\n      <td>30.00</td>\n      <td>1st</td>\n    </tr>\n    <tr>\n      <th>4</th>\n      <td>Allison, Mrs. Hudson J C (Bessi</td>\n      <td>no</td>\n      <td>female</td>\n      <td>25.00</td>\n      <td>1st</td>\n    </tr>\n  </tbody>\n</table>\n</div>"
     },
     "execution_count": 109,
     "metadata": {},
     "output_type": "execute_result"
    }
   ],
   "source": [
    "titanic.head()"
   ],
   "metadata": {
    "collapsed": false
   }
  },
  {
   "cell_type": "code",
   "execution_count": 110,
   "outputs": [
    {
     "data": {
      "text/plain": "                     Unnamed: 0 survived     sex   age passengerClass\n1304       Zabour, Miss. Hileni       no  female  14.5            3rd\n1305      Zabour, Miss. Thamine       no  female   NaN            3rd\n1306  Zakarian, Mr. Mapriededer       no    male  26.5            3rd\n1307        Zakarian, Mr. Ortin       no    male  27.0            3rd\n1308         Zimmerman, Mr. Leo       no    male  29.0            3rd",
      "text/html": "<div>\n<style scoped>\n    .dataframe tbody tr th:only-of-type {\n        vertical-align: middle;\n    }\n\n    .dataframe tbody tr th {\n        vertical-align: top;\n    }\n\n    .dataframe thead th {\n        text-align: right;\n    }\n</style>\n<table border=\"1\" class=\"dataframe\">\n  <thead>\n    <tr style=\"text-align: right;\">\n      <th></th>\n      <th>Unnamed: 0</th>\n      <th>survived</th>\n      <th>sex</th>\n      <th>age</th>\n      <th>passengerClass</th>\n    </tr>\n  </thead>\n  <tbody>\n    <tr>\n      <th>1304</th>\n      <td>Zabour, Miss. Hileni</td>\n      <td>no</td>\n      <td>female</td>\n      <td>14.5</td>\n      <td>3rd</td>\n    </tr>\n    <tr>\n      <th>1305</th>\n      <td>Zabour, Miss. Thamine</td>\n      <td>no</td>\n      <td>female</td>\n      <td>NaN</td>\n      <td>3rd</td>\n    </tr>\n    <tr>\n      <th>1306</th>\n      <td>Zakarian, Mr. Mapriededer</td>\n      <td>no</td>\n      <td>male</td>\n      <td>26.5</td>\n      <td>3rd</td>\n    </tr>\n    <tr>\n      <th>1307</th>\n      <td>Zakarian, Mr. Ortin</td>\n      <td>no</td>\n      <td>male</td>\n      <td>27.0</td>\n      <td>3rd</td>\n    </tr>\n    <tr>\n      <th>1308</th>\n      <td>Zimmerman, Mr. Leo</td>\n      <td>no</td>\n      <td>male</td>\n      <td>29.0</td>\n      <td>3rd</td>\n    </tr>\n  </tbody>\n</table>\n</div>"
     },
     "execution_count": 110,
     "metadata": {},
     "output_type": "execute_result"
    }
   ],
   "source": [
    "titanic.tail()"
   ],
   "metadata": {
    "collapsed": false
   }
  },
  {
   "cell_type": "code",
   "execution_count": 111,
   "outputs": [],
   "source": [
    "titanic.columns = ['name', 'survived', 'sex', 'age', 'class']"
   ],
   "metadata": {
    "collapsed": false
   }
  },
  {
   "cell_type": "code",
   "execution_count": 112,
   "outputs": [
    {
     "data": {
      "text/plain": "                              name survived     sex    age class\n0    Allen, Miss. Elisabeth Walton      yes  female  29.00   1st\n1   Allison, Master. Hudson Trevor      yes    male   0.92   1st\n2     Allison, Miss. Helen Loraine       no  female   2.00   1st\n3  Allison, Mr. Hudson Joshua Crei       no    male  30.00   1st\n4  Allison, Mrs. Hudson J C (Bessi       no  female  25.00   1st",
      "text/html": "<div>\n<style scoped>\n    .dataframe tbody tr th:only-of-type {\n        vertical-align: middle;\n    }\n\n    .dataframe tbody tr th {\n        vertical-align: top;\n    }\n\n    .dataframe thead th {\n        text-align: right;\n    }\n</style>\n<table border=\"1\" class=\"dataframe\">\n  <thead>\n    <tr style=\"text-align: right;\">\n      <th></th>\n      <th>name</th>\n      <th>survived</th>\n      <th>sex</th>\n      <th>age</th>\n      <th>class</th>\n    </tr>\n  </thead>\n  <tbody>\n    <tr>\n      <th>0</th>\n      <td>Allen, Miss. Elisabeth Walton</td>\n      <td>yes</td>\n      <td>female</td>\n      <td>29.00</td>\n      <td>1st</td>\n    </tr>\n    <tr>\n      <th>1</th>\n      <td>Allison, Master. Hudson Trevor</td>\n      <td>yes</td>\n      <td>male</td>\n      <td>0.92</td>\n      <td>1st</td>\n    </tr>\n    <tr>\n      <th>2</th>\n      <td>Allison, Miss. Helen Loraine</td>\n      <td>no</td>\n      <td>female</td>\n      <td>2.00</td>\n      <td>1st</td>\n    </tr>\n    <tr>\n      <th>3</th>\n      <td>Allison, Mr. Hudson Joshua Crei</td>\n      <td>no</td>\n      <td>male</td>\n      <td>30.00</td>\n      <td>1st</td>\n    </tr>\n    <tr>\n      <th>4</th>\n      <td>Allison, Mrs. Hudson J C (Bessi</td>\n      <td>no</td>\n      <td>female</td>\n      <td>25.00</td>\n      <td>1st</td>\n    </tr>\n  </tbody>\n</table>\n</div>"
     },
     "execution_count": 112,
     "metadata": {},
     "output_type": "execute_result"
    }
   ],
   "source": [
    "titanic.head()"
   ],
   "metadata": {
    "collapsed": false
   }
  },
  {
   "cell_type": "markdown",
   "source": [
    "## Survived"
   ],
   "metadata": {
    "collapsed": false
   }
  },
  {
   "cell_type": "code",
   "execution_count": 113,
   "outputs": [
    {
     "data": {
      "text/plain": "                                 name survived     sex    age class\n0       Allen, Miss. Elisabeth Walton      yes  female  29.00   1st\n1      Allison, Master. Hudson Trevor      yes    male   0.92   1st\n5                 Anderson, Mr. Harry      yes    male  48.00   1st\n6     Andrews, Miss. Kornelia Theodos      yes  female  63.00   1st\n8     Appleton, Mrs. Edward Dale (Cha      yes  female  53.00   1st\n...                               ...      ...     ...    ...   ...\n1261           Turkula, Mrs. (Hedwig)      yes  female  63.00   3rd\n1277             Vartanian, Mr. David      yes    male  22.00   3rd\n1286  Whabee, Mrs. George Joseph (Sha      yes  female  38.00   3rd\n1290  Wilkes, Mrs. James (Ellen Needs      yes  female  47.00   3rd\n1300  Yasbeck, Mrs. Antoni (Selini Al      yes  female  15.00   3rd\n\n[500 rows x 5 columns]",
      "text/html": "<div>\n<style scoped>\n    .dataframe tbody tr th:only-of-type {\n        vertical-align: middle;\n    }\n\n    .dataframe tbody tr th {\n        vertical-align: top;\n    }\n\n    .dataframe thead th {\n        text-align: right;\n    }\n</style>\n<table border=\"1\" class=\"dataframe\">\n  <thead>\n    <tr style=\"text-align: right;\">\n      <th></th>\n      <th>name</th>\n      <th>survived</th>\n      <th>sex</th>\n      <th>age</th>\n      <th>class</th>\n    </tr>\n  </thead>\n  <tbody>\n    <tr>\n      <th>0</th>\n      <td>Allen, Miss. Elisabeth Walton</td>\n      <td>yes</td>\n      <td>female</td>\n      <td>29.00</td>\n      <td>1st</td>\n    </tr>\n    <tr>\n      <th>1</th>\n      <td>Allison, Master. Hudson Trevor</td>\n      <td>yes</td>\n      <td>male</td>\n      <td>0.92</td>\n      <td>1st</td>\n    </tr>\n    <tr>\n      <th>5</th>\n      <td>Anderson, Mr. Harry</td>\n      <td>yes</td>\n      <td>male</td>\n      <td>48.00</td>\n      <td>1st</td>\n    </tr>\n    <tr>\n      <th>6</th>\n      <td>Andrews, Miss. Kornelia Theodos</td>\n      <td>yes</td>\n      <td>female</td>\n      <td>63.00</td>\n      <td>1st</td>\n    </tr>\n    <tr>\n      <th>8</th>\n      <td>Appleton, Mrs. Edward Dale (Cha</td>\n      <td>yes</td>\n      <td>female</td>\n      <td>53.00</td>\n      <td>1st</td>\n    </tr>\n    <tr>\n      <th>...</th>\n      <td>...</td>\n      <td>...</td>\n      <td>...</td>\n      <td>...</td>\n      <td>...</td>\n    </tr>\n    <tr>\n      <th>1261</th>\n      <td>Turkula, Mrs. (Hedwig)</td>\n      <td>yes</td>\n      <td>female</td>\n      <td>63.00</td>\n      <td>3rd</td>\n    </tr>\n    <tr>\n      <th>1277</th>\n      <td>Vartanian, Mr. David</td>\n      <td>yes</td>\n      <td>male</td>\n      <td>22.00</td>\n      <td>3rd</td>\n    </tr>\n    <tr>\n      <th>1286</th>\n      <td>Whabee, Mrs. George Joseph (Sha</td>\n      <td>yes</td>\n      <td>female</td>\n      <td>38.00</td>\n      <td>3rd</td>\n    </tr>\n    <tr>\n      <th>1290</th>\n      <td>Wilkes, Mrs. James (Ellen Needs</td>\n      <td>yes</td>\n      <td>female</td>\n      <td>47.00</td>\n      <td>3rd</td>\n    </tr>\n    <tr>\n      <th>1300</th>\n      <td>Yasbeck, Mrs. Antoni (Selini Al</td>\n      <td>yes</td>\n      <td>female</td>\n      <td>15.00</td>\n      <td>3rd</td>\n    </tr>\n  </tbody>\n</table>\n<p>500 rows × 5 columns</p>\n</div>"
     },
     "execution_count": 113,
     "metadata": {},
     "output_type": "execute_result"
    }
   ],
   "source": [
    "survived = titanic[titanic['survived'] == 'yes']\n",
    "survived"
   ],
   "metadata": {
    "collapsed": false
   }
  },
  {
   "cell_type": "code",
   "execution_count": 114,
   "outputs": [
    {
     "data": {
      "text/plain": "                               name survived     sex   age class\n763  Dean, Miss. Elizabeth Gladys M      yes  female  0.17   3rd",
      "text/html": "<div>\n<style scoped>\n    .dataframe tbody tr th:only-of-type {\n        vertical-align: middle;\n    }\n\n    .dataframe tbody tr th {\n        vertical-align: top;\n    }\n\n    .dataframe thead th {\n        text-align: right;\n    }\n</style>\n<table border=\"1\" class=\"dataframe\">\n  <thead>\n    <tr style=\"text-align: right;\">\n      <th></th>\n      <th>name</th>\n      <th>survived</th>\n      <th>sex</th>\n      <th>age</th>\n      <th>class</th>\n    </tr>\n  </thead>\n  <tbody>\n    <tr>\n      <th>763</th>\n      <td>Dean, Miss. Elizabeth Gladys M</td>\n      <td>yes</td>\n      <td>female</td>\n      <td>0.17</td>\n      <td>3rd</td>\n    </tr>\n  </tbody>\n</table>\n</div>"
     },
     "execution_count": 114,
     "metadata": {},
     "output_type": "execute_result"
    }
   ],
   "source": [
    "youngest = survived[survived['age'] == survived['age'].min()]\n",
    "youngest"
   ],
   "metadata": {
    "collapsed": false
   }
  },
  {
   "cell_type": "code",
   "execution_count": 115,
   "outputs": [
    {
     "data": {
      "text/plain": "                               name survived   sex   age class\n14  Barkworth, Mr. Algernon Henry W      yes  male  80.0   1st",
      "text/html": "<div>\n<style scoped>\n    .dataframe tbody tr th:only-of-type {\n        vertical-align: middle;\n    }\n\n    .dataframe tbody tr th {\n        vertical-align: top;\n    }\n\n    .dataframe thead th {\n        text-align: right;\n    }\n</style>\n<table border=\"1\" class=\"dataframe\">\n  <thead>\n    <tr style=\"text-align: right;\">\n      <th></th>\n      <th>name</th>\n      <th>survived</th>\n      <th>sex</th>\n      <th>age</th>\n      <th>class</th>\n    </tr>\n  </thead>\n  <tbody>\n    <tr>\n      <th>14</th>\n      <td>Barkworth, Mr. Algernon Henry W</td>\n      <td>yes</td>\n      <td>male</td>\n      <td>80.0</td>\n      <td>1st</td>\n    </tr>\n  </tbody>\n</table>\n</div>"
     },
     "execution_count": 115,
     "metadata": {},
     "output_type": "execute_result"
    }
   ],
   "source": [
    "oldest = survived[survived['age'] == survived['age'].max()]\n",
    "oldest"
   ],
   "metadata": {
    "collapsed": false
   }
  },
  {
   "cell_type": "code",
   "execution_count": 116,
   "outputs": [
    {
     "data": {
      "text/plain": "28.918228103072597"
     },
     "execution_count": 116,
     "metadata": {},
     "output_type": "execute_result"
    }
   ],
   "source": [
    "average_age = survived['age'].mean()\n",
    "average_age"
   ],
   "metadata": {
    "collapsed": false
   }
  },
  {
   "cell_type": "code",
   "execution_count": 117,
   "outputs": [
    {
     "name": "stdout",
     "output_type": "stream",
     "text": [
      "Amount of survived: 500\n"
     ]
    }
   ],
   "source": [
    "print(\"Amount of survived:\", survived.shape[0])"
   ],
   "metadata": {
    "collapsed": false
   }
  },
  {
   "cell_type": "code",
   "execution_count": 118,
   "outputs": [
    {
     "data": {
      "text/plain": "                                name survived     sex   age class\n61    Cavendish, Mrs. Tyrell William      yes  female  76.0   1st\n78    Compton, Mrs. Alexander Taylor      yes  female  64.0   1st\n83   Crosby, Mrs. Edward Gifford (Ca      yes  female  64.0   1st\n6    Andrews, Miss. Kornelia Theodos      yes  female  63.0   1st\n286  Straus, Mrs. Isidor (Rosalie Id       no  female  63.0   1st\n..                               ...      ...     ...   ...   ...\n176  Kenyon, Mrs. Frederick R (Mario      yes  female   NaN   1st\n204  Meyer, Mrs. Edgar Joseph (Leila      yes  female   NaN   1st\n277   Spencer, Mrs. William Augustus      yes  female   NaN   1st\n293  Taylor, Mrs. Elmer Zebley (Juli      yes  female   NaN   1st\n297   Thorne, Mrs. Gertrude Maybelle      yes  female   NaN   1st\n\n[144 rows x 5 columns]",
      "text/html": "<div>\n<style scoped>\n    .dataframe tbody tr th:only-of-type {\n        vertical-align: middle;\n    }\n\n    .dataframe tbody tr th {\n        vertical-align: top;\n    }\n\n    .dataframe thead th {\n        text-align: right;\n    }\n</style>\n<table border=\"1\" class=\"dataframe\">\n  <thead>\n    <tr style=\"text-align: right;\">\n      <th></th>\n      <th>name</th>\n      <th>survived</th>\n      <th>sex</th>\n      <th>age</th>\n      <th>class</th>\n    </tr>\n  </thead>\n  <tbody>\n    <tr>\n      <th>61</th>\n      <td>Cavendish, Mrs. Tyrell William</td>\n      <td>yes</td>\n      <td>female</td>\n      <td>76.0</td>\n      <td>1st</td>\n    </tr>\n    <tr>\n      <th>78</th>\n      <td>Compton, Mrs. Alexander Taylor</td>\n      <td>yes</td>\n      <td>female</td>\n      <td>64.0</td>\n      <td>1st</td>\n    </tr>\n    <tr>\n      <th>83</th>\n      <td>Crosby, Mrs. Edward Gifford (Ca</td>\n      <td>yes</td>\n      <td>female</td>\n      <td>64.0</td>\n      <td>1st</td>\n    </tr>\n    <tr>\n      <th>6</th>\n      <td>Andrews, Miss. Kornelia Theodos</td>\n      <td>yes</td>\n      <td>female</td>\n      <td>63.0</td>\n      <td>1st</td>\n    </tr>\n    <tr>\n      <th>286</th>\n      <td>Straus, Mrs. Isidor (Rosalie Id</td>\n      <td>no</td>\n      <td>female</td>\n      <td>63.0</td>\n      <td>1st</td>\n    </tr>\n    <tr>\n      <th>...</th>\n      <td>...</td>\n      <td>...</td>\n      <td>...</td>\n      <td>...</td>\n      <td>...</td>\n    </tr>\n    <tr>\n      <th>176</th>\n      <td>Kenyon, Mrs. Frederick R (Mario</td>\n      <td>yes</td>\n      <td>female</td>\n      <td>NaN</td>\n      <td>1st</td>\n    </tr>\n    <tr>\n      <th>204</th>\n      <td>Meyer, Mrs. Edgar Joseph (Leila</td>\n      <td>yes</td>\n      <td>female</td>\n      <td>NaN</td>\n      <td>1st</td>\n    </tr>\n    <tr>\n      <th>277</th>\n      <td>Spencer, Mrs. William Augustus</td>\n      <td>yes</td>\n      <td>female</td>\n      <td>NaN</td>\n      <td>1st</td>\n    </tr>\n    <tr>\n      <th>293</th>\n      <td>Taylor, Mrs. Elmer Zebley (Juli</td>\n      <td>yes</td>\n      <td>female</td>\n      <td>NaN</td>\n      <td>1st</td>\n    </tr>\n    <tr>\n      <th>297</th>\n      <td>Thorne, Mrs. Gertrude Maybelle</td>\n      <td>yes</td>\n      <td>female</td>\n      <td>NaN</td>\n      <td>1st</td>\n    </tr>\n  </tbody>\n</table>\n<p>144 rows × 5 columns</p>\n</div>"
     },
     "execution_count": 118,
     "metadata": {},
     "output_type": "execute_result"
    }
   ],
   "source": [
    "by_class_sorted = titanic[(titanic['class'] == '1st') & (titanic['sex'] == 'female')].sort_values(by='age', ascending=False)\n",
    "by_class_sorted"
   ],
   "metadata": {
    "collapsed": false
   }
  },
  {
   "cell_type": "code",
   "execution_count": 119,
   "outputs": [
    {
     "data": {
      "text/plain": "name        Allen, Miss. Elisabeth Walton\nsurvived                               no\nsex                                female\nage                                   2.0\nclass                                 1st\ndtype: object"
     },
     "execution_count": 119,
     "metadata": {},
     "output_type": "execute_result"
    }
   ],
   "source": [
    "by_class_sorted.min()"
   ],
   "metadata": {
    "collapsed": false
   }
  },
  {
   "cell_type": "code",
   "execution_count": 120,
   "outputs": [
    {
     "data": {
      "text/plain": "name        Young, Miss. Marie Grice\nsurvived                         yes\nsex                           female\nage                             76.0\nclass                            1st\ndtype: object"
     },
     "execution_count": 120,
     "metadata": {},
     "output_type": "execute_result"
    }
   ],
   "source": [
    "by_class_sorted.max()"
   ],
   "metadata": {
    "collapsed": false
   }
  },
  {
   "cell_type": "code",
   "execution_count": 121,
   "outputs": [
    {
     "name": "stdout",
     "output_type": "stream",
     "text": [
      "Amount of survived women in 1st class is 139\n"
     ]
    }
   ],
   "source": [
    "survived_by_class = by_class_sorted[by_class_sorted['survived'] == 'yes'].shape[0]\n",
    "print(\"Amount of survived women in 1st class is\", survived_by_class)"
   ],
   "metadata": {
    "collapsed": false
   }
  },
  {
   "cell_type": "code",
   "execution_count": 122,
   "outputs": [
    {
     "data": {
      "text/plain": "array([[<AxesSubplot: title={'center': 'age'}>]], dtype=object)"
     },
     "execution_count": 122,
     "metadata": {},
     "output_type": "execute_result"
    },
    {
     "data": {
      "text/plain": "<Figure size 640x480 with 1 Axes>",
      "image/png": "[encoded data removed]"
     },
     "metadata": {},
     "output_type": "display_data"
    }
   ],
   "source": [
    "titanic.hist(bins=40)"
   ],
   "metadata": {
    "collapsed": false
   }
  }
 ],
 "metadata": {
  "kernelspec": {
   "display_name": "Python 3",
   "language": "python",
   "name": "python3"
  },
  "language_info": {
   "codemirror_mode": {
    "name": "ipython",
    "version": 2
   },
   "file_extension": ".py",
   "mimetype": "text/x-python",
   "name": "python",
   "nbconvert_exporter": "python",
   "pygments_lexer": "ipython2",
   "version": "2.7.6"
  }
 },
 "nbformat": 4,
 "nbformat_minor": 0
}
